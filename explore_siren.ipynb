{
  "cells": [
    {
      "cell_type": "markdown",
      "metadata": {
        "id": "MwBVYR6B02e6"
      },
      "source": [
        "# Siren Exploration\n",
        "\n",
        "This is a colab to explore properties of the Siren MLP, proposed in our work [Implicit Neural Activations with Periodic Activation Functions](https://vsitzmann.github.io/siren).\n",
        "\n",
        "\n",
        "We will first implement a streamlined version of Siren for fast experimentation. This lacks the code to easily do baseline comparisons - please refer to the main code for that - but will greatly simplify the code!\n",
        "\n",
        "**Make sure that you have enabled the GPU under Edit -> Notebook Settings!**\n",
        "\n",
        "We will then reproduce the following results from the paper:\n",
        "* [Fitting an image](#section_1)\n",
        "* [Fitting an audio signal](#section_2)\n",
        "* [Solving Poisson's equation](#section_3)\n",
        "* [Initialization scheme & distribution of activations](#activations)\n",
        "* [Distribution of activations is shift-invariant](#shift_invariance)\n",
        "\n",
        "We will also explore Siren's [behavior outside of the training range](#out_of_range).\n",
        "\n",
        "Let's go! First, some imports, and a function to quickly generate coordinate grids."
      ]
    },
    {
      "cell_type": "code",
      "execution_count": 1,
      "metadata": {
        "id": "hmg6gAeA02fz"
      },
      "outputs": [],
      "source": [
        "import torch\n",
        "from torch import nn\n",
        "import torch.nn.functional as F\n",
        "from torch.utils.data import DataLoader, Dataset\n",
        "import os\n",
        "\n",
        "from PIL import Image\n",
        "from torchvision.transforms import Resize, Compose, ToTensor, Normalize\n",
        "import numpy as np\n",
        "import skimage\n",
        "import matplotlib.pyplot as plt\n",
        "\n",
        "import time\n",
        "\n",
        "def get_mgrid(height, width):\n",
        "    '''Generates a flattened grid of (x,y) coordinates in a range of -1 to 1.'''\n",
        "    tensors = (torch.linspace(-1, 1, steps=height), torch.linspace(-1, 1, steps=width))\n",
        "    mgrid = torch.stack(torch.meshgrid(*tensors, indexing=\"ij\"), dim=-1)  # 🔥 indexing=\"ij\" 추가\n",
        "    mgrid = mgrid.reshape(-1, 2)\n",
        "    return mgrid\n"
      ]
    },
    {
      "cell_type": "markdown",
      "metadata": {
        "id": "VCYoL81z02f5"
      },
      "source": [
        "Now, we code up the sine layer, which will be the basic building block of SIREN. This is a much more concise implementation than the one in the main code, as here, we aren't concerned with the baseline comparisons."
      ]
    },
    {
      "cell_type": "code",
      "execution_count": 2,
      "metadata": {
        "id": "s3iO4_QP02f7"
      },
      "outputs": [],
      "source": [
        "class SineLayer(nn.Module):\n",
        "    # See paper sec. 3.2, final paragraph, and supplement Sec. 1.5 for discussion of omega_0.\n",
        "\n",
        "    # If is_first=True, omega_0 is a frequency factor which simply multiplies the activations before the\n",
        "    # nonlinearity. Different signals may require different omega_0 in the first layer - this is a\n",
        "    # hyperparameter.\n",
        "\n",
        "    # If is_first=False, then the weights will be divided by omega_0 so as to keep the magnitude of\n",
        "    # activations constant, but boost gradients to the weight matrix (see supplement Sec. 1.5)\n",
        "\n",
        "    def __init__(self, in_features, out_features, bias=True,\n",
        "                 is_first=False, omega_0=30):\n",
        "        super().__init__()\n",
        "        self.omega_0 = omega_0\n",
        "        self.is_first = is_first\n",
        "\n",
        "        self.in_features = in_features\n",
        "        self.linear = nn.Linear(in_features, out_features, bias=bias)\n",
        "\n",
        "        self.init_weights()\n",
        "\n",
        "    def init_weights(self):\n",
        "        with torch.no_grad():\n",
        "            if self.is_first:\n",
        "                self.linear.weight.uniform_(-1 / self.in_features,\n",
        "                                             1 / self.in_features)\n",
        "            else:\n",
        "                self.linear.weight.uniform_(-np.sqrt(6 / self.in_features) / self.omega_0,\n",
        "                                             np.sqrt(6 / self.in_features) / self.omega_0)\n",
        "\n",
        "    def forward(self, input):\n",
        "        return torch.sin(self.omega_0 * self.linear(input))\n",
        "\n",
        "    def forward_with_intermediate(self, input):\n",
        "        # For visualization of activation distributions\n",
        "        intermediate = self.omega_0 * self.linear(input)\n",
        "        return torch.sin(intermediate), intermediate\n",
        "\n",
        "\n",
        "class Siren(nn.Module):\n",
        "    def __init__(self, in_features, hidden_features, hidden_layers, out_features, outermost_linear=False,\n",
        "                 first_omega_0=30, hidden_omega_0=30.):\n",
        "        super().__init__()\n",
        "\n",
        "        self.net = []\n",
        "        self.net.append(SineLayer(in_features, hidden_features,\n",
        "                                  is_first=True, omega_0=first_omega_0))\n",
        "\n",
        "        for i in range(hidden_layers):\n",
        "            self.net.append(SineLayer(hidden_features, hidden_features,\n",
        "                                      is_first=False, omega_0=hidden_omega_0))\n",
        "\n",
        "        if outermost_linear:\n",
        "            final_linear = nn.Linear(hidden_features, out_features)\n",
        "\n",
        "            with torch.no_grad():\n",
        "                final_linear.weight.uniform_(-np.sqrt(6 / hidden_features) / hidden_omega_0,\n",
        "                                              np.sqrt(6 / hidden_features) / hidden_omega_0)\n",
        "\n",
        "            self.net.append(final_linear)\n",
        "        else:\n",
        "            self.net.append(SineLayer(hidden_features, out_features,\n",
        "                                      is_first=False, omega_0=hidden_omega_0))\n",
        "\n",
        "        self.net = nn.Sequential(*self.net)\n",
        "\n",
        "    def forward(self, coords):\n",
        "        coords = coords.clone().detach().requires_grad_(True) # allows to take derivative w.r.t. input\n",
        "        output = self.net(coords)\n",
        "        return output, coords\n",
        "\n",
        "    def forward_with_activations(self, coords, retain_grad=False):\n",
        "        '''Returns not only model output, but also intermediate activations.\n",
        "        Only used for visualizing activations later!'''\n",
        "        activations = OrderedDict()\n",
        "\n",
        "        activation_count = 0\n",
        "        x = coords.clone().detach().requires_grad_(True)\n",
        "        activations['input'] = x\n",
        "        for i, layer in enumerate(self.net):\n",
        "            if isinstance(layer, SineLayer):\n",
        "                x, intermed = layer.forward_with_intermediate(x)\n",
        "\n",
        "                if retain_grad:\n",
        "                    x.retain_grad()\n",
        "                    intermed.retain_grad()\n",
        "\n",
        "                activations['_'.join((str(layer.__class__), \"%d\" % activation_count))] = intermed\n",
        "                activation_count += 1\n",
        "            else:\n",
        "                x = layer(x)\n",
        "\n",
        "                if retain_grad:\n",
        "                    x.retain_grad()\n",
        "\n",
        "            activations['_'.join((str(layer.__class__), \"%d\" % activation_count))] = x\n",
        "            activation_count += 1\n",
        "\n",
        "        return activations"
      ]
    },
    {
      "cell_type": "markdown",
      "metadata": {
        "id": "hTEhvxnw02f9"
      },
      "source": [
        "And finally, differential operators that allow us to leverage autograd to compute gradients, the laplacian, etc."
      ]
    },
    {
      "cell_type": "code",
      "execution_count": 3,
      "metadata": {
        "id": "XNG3k8bQ02gH"
      },
      "outputs": [],
      "source": [
        "def laplace(y, x):\n",
        "    grad = gradient(y, x)\n",
        "    return divergence(grad, x)\n",
        "\n",
        "\n",
        "def divergence(y, x):\n",
        "    div = 0.\n",
        "    for i in range(y.shape[-1]):\n",
        "        div += torch.autograd.grad(y[..., i], x, torch.ones_like(y[..., i]), create_graph=True)[0][..., i:i+1]\n",
        "    return div\n",
        "\n",
        "\n",
        "def gradient(y, x, grad_outputs=None):\n",
        "    if grad_outputs is None:\n",
        "        grad_outputs = torch.ones_like(y)\n",
        "    grad = torch.autograd.grad(y, [x], grad_outputs=grad_outputs, create_graph=True)[0]\n",
        "    return grad"
      ]
    },
    {
      "cell_type": "markdown",
      "metadata": {
        "id": "Nf-XHrur02gI"
      },
      "source": [
        "# Experiments\n",
        "\n",
        "For the image fitting and poisson experiments, we'll use the classic cameraman image."
      ]
    },
    {
      "cell_type": "code",
      "source": [
        "from huggingface_hub import login\n",
        "\n",
        "login()\n"
      ],
      "metadata": {
        "colab": {
          "base_uri": "https://localhost:8080/",
          "height": 17,
          "referenced_widgets": [
            "9404f8256d2d40e296b441e34d7c64e7",
            "fc31153b4c23451f8e730183a0e3f53d",
            "0b64232268294b309b8d132ef1dc402d",
            "0edab4507f7746b0bd54f7c195cbfa90",
            "3bf2750dbff94665bb67eee8b42fce7f",
            "a4a8e7b96dfb423589242f9877945445",
            "3c3f122068bb400aa5f98f4ad95f8b25",
            "b56e61ec36664cebb10db08ba763df37",
            "0a8977d9d30b429782e6038f2b015561",
            "f0a35dea9d614c09b47f4386faa1cff1",
            "2dc60b12c2b444d789ce2a9a4b1588f7",
            "eb777e0dc5694954afc3312c26f42139",
            "7ae0065251f34ad09bf67d3ab5923ed2",
            "7c562d416fff403fad70ef6f622e80ed",
            "63bae70e3308408bb50b31a8f1d0908f",
            "068fc3ab19b546ef8f9e4dcddf92bb2d",
            "14c9f026521749f7b42a6597c204072e",
            "86217cbac68b46ed94ec0341927a04e5",
            "843f06705736403bba4b501e304e6df7",
            "4494151b5b254c2a92557a3ec72e2248"
          ]
        },
        "id": "6a3iZE2Lvc7L",
        "outputId": "a55eeb58-f233-411e-ea0f-675c9a66a77f"
      },
      "execution_count": 4,
      "outputs": [
        {
          "output_type": "display_data",
          "data": {
            "text/plain": [
              "VBox(children=(HTML(value='<center> <img\\nsrc=https://huggingface.co/front/assets/huggingface_logo-noborder.sv…"
            ],
            "application/vnd.jupyter.widget-view+json": {
              "version_major": 2,
              "version_minor": 0,
              "model_id": "9404f8256d2d40e296b441e34d7c64e7"
            }
          },
          "metadata": {}
        }
      ]
    },
    {
      "cell_type": "code",
      "source": [
        "from huggingface_hub import snapshot_download\n",
        "snapshot_download(repo_id=\"jyj7913/spectro-polarimetric\", allow_patterns=[\"trichromatic/original/0000.npy\"], repo_type=\"dataset\")"
      ],
      "metadata": {
        "colab": {
          "base_uri": "https://localhost:8080/",
          "height": 209,
          "referenced_widgets": [
            "c6a6ef72a0f049cd9f878a64301759c5",
            "a5b66bfc46d8436db8a1f36ad0bded5c",
            "b80a56129c094cc7aad92c4018b21b41",
            "f02c3f8f79e4457e81a7f62ed795d873",
            "9973b324ee1643dc9f6e9374b525e544",
            "46ad714f13d34374acdfbe278a1a45f0",
            "09e79f6b6bc347aa9d7dd92daa96e19c",
            "8651b79035a74df79cbdaa7d7fe7dda0",
            "4741d2753cc746698fec0102442b2a9f",
            "dbfac9984cdd48c2b439fdef029e3cb9",
            "698db852ec9d4859b026fd78e029fd3d"
          ]
        },
        "id": "PbwpUpWqvfwH",
        "outputId": "4850026f-a11a-4a0d-f5fb-cf855a695ee5"
      },
      "execution_count": 5,
      "outputs": [
        {
          "output_type": "stream",
          "name": "stderr",
          "text": [
            "/usr/local/lib/python3.11/dist-packages/huggingface_hub/utils/_auth.py:94: UserWarning: \n",
            "The secret `HF_TOKEN` does not exist in your Colab secrets.\n",
            "To authenticate with the Hugging Face Hub, create a token in your settings tab (https://huggingface.co/settings/tokens), set it as secret in your Google Colab and restart your session.\n",
            "You will be able to reuse this secret in all of your notebooks.\n",
            "Please note that authentication is recommended but still optional to access public models or datasets.\n",
            "  warnings.warn(\n"
          ]
        },
        {
          "output_type": "display_data",
          "data": {
            "text/plain": [
              "Fetching 1 files:   0%|          | 0/1 [00:00<?, ?it/s]"
            ],
            "application/vnd.jupyter.widget-view+json": {
              "version_major": 2,
              "version_minor": 0,
              "model_id": "c6a6ef72a0f049cd9f878a64301759c5"
            }
          },
          "metadata": {}
        },
        {
          "output_type": "execute_result",
          "data": {
            "text/plain": [
              "'/root/.cache/huggingface/hub/datasets--jyj7913--spectro-polarimetric/snapshots/074dc898e318d8f66c27b30b677fcfeaebe8b008'"
            ],
            "application/vnd.google.colaboratory.intrinsic+json": {
              "type": "string"
            }
          },
          "metadata": {},
          "execution_count": 5
        }
      ]
    },
    {
      "cell_type": "code",
      "source": [
        "file_path = \"/root/.cache/huggingface/hub/datasets--jyj7913--spectro-polarimetric/snapshots/074dc898e318d8f66c27b30b677fcfeaebe8b008/trichromatic/original/0000.npy\"\n",
        "data = np.load(file_path)\n",
        "\n",
        "s0 = data[:, :, 0, :] #total intensity\n",
        "s1 = data[:, :, 1, :] #Linear polarization 0/90 degree\n",
        "s2 = data[:, :, 2, :] #Linear polarization 45/-45 degree\n",
        "s3 = data[:, :, 3, :] #Circular polarization"
      ],
      "metadata": {
        "id": "YQHjgQ3ivRtW"
      },
      "execution_count": 6,
      "outputs": []
    },
    {
      "cell_type": "code",
      "execution_count": 13,
      "metadata": {
        "id": "ClSLQM2e02gR"
      },
      "outputs": [],
      "source": [
        "def get_cameraman_tensor(sidelength):\n",
        "    img = Image.fromarray(skimage.data.camera())\n",
        "    transform = Compose([\n",
        "        Resize(sidelength),\n",
        "        ToTensor(),\n",
        "        Normalize(torch.Tensor([0.5]), torch.Tensor([0.5]))\n",
        "    ])\n",
        "    img = transform(img)\n",
        "    return img"
      ]
    },
    {
      "cell_type": "code",
      "source": [
        "from PIL import Image\n",
        "from torchvision.transforms import Compose, Resize, ToTensor, Normalize\n",
        "\n",
        "def get_custom_image_tensor(file_path, height, width, channel=0):\n",
        "    \"\"\"\n",
        "    .npy 파일에서 이미지를 로드하고, 지정된 크기(height, width)로 변환한 후 PyTorch 텐서로 반환.\n",
        "\n",
        "    Args:\n",
        "        file_path (str): .npy 파일 경로\n",
        "        height (int): 변환할 이미지 높이\n",
        "        width (int): 변환할 이미지 너비\n",
        "        channel (int): 사용할 채널 (0 = R, 1 = G, 2 = B)\n",
        "\n",
        "    Returns:\n",
        "        torch.Tensor: 정규화된 이미지 텐서 (1, H, W)\n",
        "    \"\"\"\n",
        "    # .npy 파일 로드\n",
        "    data = np.load(file_path)\n",
        "\n",
        "    # s0 채널을 기준으로 이미지 추출\n",
        "    s0 = data[:, :, 0, :]  # (H, W, C)\n",
        "\n",
        "    # 선택한 RGB 채널 사용\n",
        "    img = s0[:, :, channel]  # (H, W)\n",
        "\n",
        "    # 이미지 정규화 (0~1)\n",
        "    img = img / np.max(img)\n",
        "\n",
        "    # PIL 이미지 변환 후 Resize\n",
        "    img = Image.fromarray((img * 255).astype(np.uint8))\n",
        "\n",
        "    transform = Compose([\n",
        "        Resize((height, width)),  # 지정된 크기로 변경\n",
        "        ToTensor(),               # Tensor 변환\n",
        "        Normalize([0.5], [0.5])   # -1 ~ 1로 정규화\n",
        "    ])\n",
        "\n",
        "    img_tensor = transform(img)  # (1, H, W) 형태\n",
        "\n",
        "    return img_tensor\n"
      ],
      "metadata": {
        "id": "nHLywVBP0CoI"
      },
      "execution_count": 7,
      "outputs": []
    },
    {
      "cell_type": "markdown",
      "metadata": {
        "id": "6dXj-Fj702gS"
      },
      "source": [
        "<a id='section_1'></a>\n",
        "## Fitting an image\n",
        "\n",
        "First, let's simply fit that image!\n",
        "\n",
        "We seek to parameterize a greyscale image $f(x)$ with pixel coordinates $x$ with a SIREN $\\Phi(x)$.\n",
        "\n",
        "That is we seek the function $\\Phi$ such that:\n",
        "$\\mathcal{L}=\\int_{\\Omega} \\lVert \\Phi(\\mathbf{x}) - f(\\mathbf{x}) \\rVert\\mathrm{d}\\mathbf{x}$\n",
        " is minimized, in which $\\Omega$ is the domain of the image.\n",
        "\n",
        "We write a little datast that does nothing except calculating per-pixel coordinates:"
      ]
    },
    {
      "cell_type": "code",
      "execution_count": 11,
      "metadata": {
        "id": "ea9aOsJq02gT"
      },
      "outputs": [],
      "source": [
        "class ImageFitting(Dataset):\n",
        "    def __init__(self, sidelength):\n",
        "        super().__init__()\n",
        "        img = get_cameraman_tensor(sidelength)\n",
        "        self.pixels = img.permute(1, 2, 0).view(-1, 1)\n",
        "        self.coords = get_mgrid(sidelength, 2)\n",
        "\n",
        "    def __len__(self):\n",
        "        return 1\n",
        "\n",
        "    def __getitem__(self, idx):\n",
        "        if idx > 0: raise IndexError\n",
        "\n",
        "        return self.coords, self.pixels"
      ]
    },
    {
      "cell_type": "code",
      "source": [
        "class ImageFitting(Dataset):\n",
        "    def __init__(self, height, width, file_path, channel=0):\n",
        "        super().__init__()\n",
        "        img = get_custom_image_tensor(file_path, height, width, channel)\n",
        "        self.pixels = img.permute(1, 2, 0).view(-1, 1).to(torch.float32)  # 🔥 float32 변환\n",
        "        self.coords = get_mgrid(height, width).to(torch.float32)  # 🔥 float32 변환\n",
        "\n",
        "    def __len__(self):\n",
        "        return 1\n",
        "\n",
        "    def __getitem__(self, idx):\n",
        "        if idx > 0: raise IndexError\n",
        "        return self.coords, self.pixels\n"
      ],
      "metadata": {
        "id": "wwnpg0wtzTZ9"
      },
      "execution_count": 8,
      "outputs": []
    },
    {
      "cell_type": "markdown",
      "metadata": {
        "pycharm": {
          "name": "#%% md\n"
        },
        "id": "kvPRPh-T02gW"
      },
      "source": [
        "Let's instantiate the dataset and our Siren. As pixel coordinates are 2D, the siren has 2 input features, and since the image is grayscale, it has one output channel."
      ]
    },
    {
      "cell_type": "code",
      "execution_count": 13,
      "metadata": {
        "colab": {
          "base_uri": "https://localhost:8080/",
          "height": 228
        },
        "id": "qjWm4p4k02gX",
        "outputId": "7be31b03-3a8c-4217-872e-6c4fe52214f9"
      },
      "outputs": [
        {
          "output_type": "error",
          "ename": "TypeError",
          "evalue": "ImageFitting.__init__() missing 2 required positional arguments: 'width' and 'file_path'",
          "traceback": [
            "\u001b[0;31m---------------------------------------------------------------------------\u001b[0m",
            "\u001b[0;31mTypeError\u001b[0m                                 Traceback (most recent call last)",
            "\u001b[0;32m<ipython-input-13-672b077288a2>\u001b[0m in \u001b[0;36m<cell line: 0>\u001b[0;34m()\u001b[0m\n\u001b[0;32m----> 1\u001b[0;31m \u001b[0mcameraman\u001b[0m \u001b[0;34m=\u001b[0m \u001b[0mImageFitting\u001b[0m\u001b[0;34m(\u001b[0m\u001b[0;36m256\u001b[0m\u001b[0;34m)\u001b[0m\u001b[0;34m\u001b[0m\u001b[0;34m\u001b[0m\u001b[0m\n\u001b[0m\u001b[1;32m      2\u001b[0m \u001b[0mdataloader\u001b[0m \u001b[0;34m=\u001b[0m \u001b[0mDataLoader\u001b[0m\u001b[0;34m(\u001b[0m\u001b[0mcameraman\u001b[0m\u001b[0;34m,\u001b[0m \u001b[0mbatch_size\u001b[0m\u001b[0;34m=\u001b[0m\u001b[0;36m1\u001b[0m\u001b[0;34m,\u001b[0m \u001b[0mpin_memory\u001b[0m\u001b[0;34m=\u001b[0m\u001b[0;32mTrue\u001b[0m\u001b[0;34m,\u001b[0m \u001b[0mnum_workers\u001b[0m\u001b[0;34m=\u001b[0m\u001b[0;36m0\u001b[0m\u001b[0;34m)\u001b[0m\u001b[0;34m\u001b[0m\u001b[0;34m\u001b[0m\u001b[0m\n\u001b[1;32m      3\u001b[0m \u001b[0;34m\u001b[0m\u001b[0m\n\u001b[1;32m      4\u001b[0m img_siren = Siren(in_features=2, out_features=1, hidden_features=256, \n\u001b[1;32m      5\u001b[0m                   hidden_layers=3, outermost_linear=True)\n",
            "\u001b[0;31mTypeError\u001b[0m: ImageFitting.__init__() missing 2 required positional arguments: 'width' and 'file_path'"
          ]
        }
      ],
      "source": [
        "cameraman = ImageFitting(256)\n",
        "dataloader = DataLoader(cameraman, batch_size=1, pin_memory=True, num_workers=0)\n",
        "\n",
        "img_siren = Siren(in_features=2, out_features=1, hidden_features=256,\n",
        "                  hidden_layers=3, outermost_linear=True)\n",
        "img_siren.to('cpu')"
      ]
    },
    {
      "cell_type": "markdown",
      "metadata": {
        "id": "K4Tw56Ce02gY"
      },
      "source": [
        "We now fit Siren in a simple training loop. Within only hundreds of iterations, the image and its gradients are approximated well."
      ]
    },
    {
      "cell_type": "code",
      "source": [
        "fig, axes = plt.subplots(1, 3, figsize=(18, 6))  # R, G, B 채널별 학습 과정 시각화\n",
        "\n",
        "models = []\n",
        "optimizers = []\n",
        "\n",
        "for channel, name in zip([1, 2], [\"Green\", \"Blue\"]):\n",
        "    print(f\"Training {name} channel...\")\n",
        "\n",
        "    dataset = ImageFitting(height=1900, width=2100, file_path=file_path, channel=channel)\n",
        "    dataloader = DataLoader(dataset, batch_size=1, pin_memory=True, num_workers=0)\n",
        "\n",
        "    model = Siren(in_features=2, out_features=1, hidden_features=256,\n",
        "                  hidden_layers=3, outermost_linear=True).to('cpu')\n",
        "\n",
        "    optimizer = torch.optim.Adam(lr=1e-4, params=model.parameters())\n",
        "\n",
        "    models.append(model)\n",
        "    optimizers.append(optimizer)\n",
        "\n",
        "    model_input, ground_truth = next(iter(dataloader))\n",
        "    model_input, ground_truth = model_input.to('cpu'), ground_truth.to('cpu')\n",
        "\n",
        "    for step in range(200):  # 500번 학습\n",
        "        model_input = model_input.to(torch.float32)\n",
        "        model_output, coords = model(model_input)\n",
        "        loss = ((model_output - ground_truth) ** 2).mean()\n",
        "\n",
        "        if step % 10 == 0:  # 10 스텝마다 시각화 및 loss 출력\n",
        "            print(f\"Step {step}, Loss: {loss.item():.6f}\")\n",
        "\n",
        "            fig, axes = plt.subplots(1, 3, figsize=(18, 6))  # 🔥 새 figure 생성\n",
        "            output_image = model_output.cpu().view(1900, 2100).detach().numpy()\n",
        "\n",
        "            axes[channel].imshow(output_image, cmap=\"gray\")\n",
        "            axes[channel].set_title(f\"{name} Channel (Step {step})\")\n",
        "            axes[channel].axis(\"off\")\n",
        "\n",
        "            plt.show()  # 🔥 10번마다 새로운 창 띄우기\n",
        "\n",
        "        optimizer.zero_grad()\n",
        "        loss.backward()\n",
        "        optimizer.step()\n"
      ],
      "metadata": {
        "colab": {
          "base_uri": "https://localhost:8080/",
          "height": 876
        },
        "id": "5tLrCp1azKOH",
        "outputId": "4d975be7-d73f-4a73-cde9-dac894db941a"
      },
      "execution_count": 9,
      "outputs": [
        {
          "output_type": "stream",
          "name": "stdout",
          "text": [
            "Training Green channel...\n",
            "Step 0, Loss: 0.221240\n"
          ]
        },
        {
          "output_type": "display_data",
          "data": {
            "text/plain": [
              "<Figure size 1800x600 with 3 Axes>"
            ],
            "image/png": "[encoded data removed]"
          },
          "metadata": {}
        },
        {
          "output_type": "display_data",
          "data": {
            "text/plain": [
              "<Figure size 1800x600 with 3 Axes>"
            ],
            "image/png": "[encoded data removed]"
          },
          "metadata": {}
        },
        {
          "output_type": "error",
          "ename": "KeyboardInterrupt",
          "evalue": "",
          "traceback": [
            "\u001b[0;31m---------------------------------------------------------------------------\u001b[0m",
            "\u001b[0;31mKeyboardInterrupt\u001b[0m                         Traceback (most recent call last)",
            "\u001b[0;32m<ipython-input-9-09964939c459>\u001b[0m in \u001b[0;36m<cell line: 0>\u001b[0;34m()\u001b[0m\n\u001b[1;32m     23\u001b[0m     \u001b[0;32mfor\u001b[0m \u001b[0mstep\u001b[0m \u001b[0;32min\u001b[0m \u001b[0mrange\u001b[0m\u001b[0;34m(\u001b[0m\u001b[0;36m200\u001b[0m\u001b[0;34m)\u001b[0m\u001b[0;34m:\u001b[0m  \u001b[0;31m# 500번 학습\u001b[0m\u001b[0;34m\u001b[0m\u001b[0;34m\u001b[0m\u001b[0m\n\u001b[1;32m     24\u001b[0m         \u001b[0mmodel_input\u001b[0m \u001b[0;34m=\u001b[0m \u001b[0mmodel_input\u001b[0m\u001b[0;34m.\u001b[0m\u001b[0mto\u001b[0m\u001b[0;34m(\u001b[0m\u001b[0mtorch\u001b[0m\u001b[0;34m.\u001b[0m\u001b[0mfloat32\u001b[0m\u001b[0;34m)\u001b[0m\u001b[0;34m\u001b[0m\u001b[0;34m\u001b[0m\u001b[0m\n\u001b[0;32m---> 25\u001b[0;31m         \u001b[0mmodel_output\u001b[0m\u001b[0;34m,\u001b[0m \u001b[0mcoords\u001b[0m \u001b[0;34m=\u001b[0m \u001b[0mmodel\u001b[0m\u001b[0;34m(\u001b[0m\u001b[0mmodel_input\u001b[0m\u001b[0;34m)\u001b[0m\u001b[0;34m\u001b[0m\u001b[0;34m\u001b[0m\u001b[0m\n\u001b[0m\u001b[1;32m     26\u001b[0m         \u001b[0mloss\u001b[0m \u001b[0;34m=\u001b[0m \u001b[0;34m(\u001b[0m\u001b[0;34m(\u001b[0m\u001b[0mmodel_output\u001b[0m \u001b[0;34m-\u001b[0m \u001b[0mground_truth\u001b[0m\u001b[0;34m)\u001b[0m \u001b[0;34m**\u001b[0m \u001b[0;36m2\u001b[0m\u001b[0;34m)\u001b[0m\u001b[0;34m.\u001b[0m\u001b[0mmean\u001b[0m\u001b[0;34m(\u001b[0m\u001b[0;34m)\u001b[0m\u001b[0;34m\u001b[0m\u001b[0;34m\u001b[0m\u001b[0m\n\u001b[1;32m     27\u001b[0m \u001b[0;34m\u001b[0m\u001b[0m\n",
            "\u001b[0;32m/usr/local/lib/python3.11/dist-packages/torch/nn/modules/module.py\u001b[0m in \u001b[0;36m_wrapped_call_impl\u001b[0;34m(self, *args, **kwargs)\u001b[0m\n\u001b[1;32m   1734\u001b[0m             \u001b[0;32mreturn\u001b[0m \u001b[0mself\u001b[0m\u001b[0;34m.\u001b[0m\u001b[0m_compiled_call_impl\u001b[0m\u001b[0;34m(\u001b[0m\u001b[0;34m*\u001b[0m\u001b[0margs\u001b[0m\u001b[0;34m,\u001b[0m \u001b[0;34m**\u001b[0m\u001b[0mkwargs\u001b[0m\u001b[0;34m)\u001b[0m  \u001b[0;31m# type: ignore[misc]\u001b[0m\u001b[0;34m\u001b[0m\u001b[0;34m\u001b[0m\u001b[0m\n\u001b[1;32m   1735\u001b[0m         \u001b[0;32melse\u001b[0m\u001b[0;34m:\u001b[0m\u001b[0;34m\u001b[0m\u001b[0;34m\u001b[0m\u001b[0m\n\u001b[0;32m-> 1736\u001b[0;31m             \u001b[0;32mreturn\u001b[0m \u001b[0mself\u001b[0m\u001b[0;34m.\u001b[0m\u001b[0m_call_impl\u001b[0m\u001b[0;34m(\u001b[0m\u001b[0;34m*\u001b[0m\u001b[0margs\u001b[0m\u001b[0;34m,\u001b[0m \u001b[0;34m**\u001b[0m\u001b[0mkwargs\u001b[0m\u001b[0;34m)\u001b[0m\u001b[0;34m\u001b[0m\u001b[0;34m\u001b[0m\u001b[0m\n\u001b[0m\u001b[1;32m   1737\u001b[0m \u001b[0;34m\u001b[0m\u001b[0m\n\u001b[1;32m   1738\u001b[0m     \u001b[0;31m# torchrec tests the code consistency with the following code\u001b[0m\u001b[0;34m\u001b[0m\u001b[0;34m\u001b[0m\u001b[0m\n",
            "\u001b[0;32m/usr/local/lib/python3.11/dist-packages/torch/nn/modules/module.py\u001b[0m in \u001b[0;36m_call_impl\u001b[0;34m(self, *args, **kwargs)\u001b[0m\n\u001b[1;32m   1745\u001b[0m                 \u001b[0;32mor\u001b[0m \u001b[0m_global_backward_pre_hooks\u001b[0m \u001b[0;32mor\u001b[0m \u001b[0m_global_backward_hooks\u001b[0m\u001b[0;34m\u001b[0m\u001b[0;34m\u001b[0m\u001b[0m\n\u001b[1;32m   1746\u001b[0m                 or _global_forward_hooks or _global_forward_pre_hooks):\n\u001b[0;32m-> 1747\u001b[0;31m             \u001b[0;32mreturn\u001b[0m \u001b[0mforward_call\u001b[0m\u001b[0;34m(\u001b[0m\u001b[0;34m*\u001b[0m\u001b[0margs\u001b[0m\u001b[0;34m,\u001b[0m \u001b[0;34m**\u001b[0m\u001b[0mkwargs\u001b[0m\u001b[0;34m)\u001b[0m\u001b[0;34m\u001b[0m\u001b[0;34m\u001b[0m\u001b[0m\n\u001b[0m\u001b[1;32m   1748\u001b[0m \u001b[0;34m\u001b[0m\u001b[0m\n\u001b[1;32m   1749\u001b[0m         \u001b[0mresult\u001b[0m \u001b[0;34m=\u001b[0m \u001b[0;32mNone\u001b[0m\u001b[0;34m\u001b[0m\u001b[0;34m\u001b[0m\u001b[0m\n",
            "\u001b[0;32m<ipython-input-2-b478c3c7c425>\u001b[0m in \u001b[0;36mforward\u001b[0;34m(self, coords)\u001b[0m\n\u001b[1;32m     67\u001b[0m     \u001b[0;32mdef\u001b[0m \u001b[0mforward\u001b[0m\u001b[0;34m(\u001b[0m\u001b[0mself\u001b[0m\u001b[0;34m,\u001b[0m \u001b[0mcoords\u001b[0m\u001b[0;34m)\u001b[0m\u001b[0;34m:\u001b[0m\u001b[0;34m\u001b[0m\u001b[0;34m\u001b[0m\u001b[0m\n\u001b[1;32m     68\u001b[0m         \u001b[0mcoords\u001b[0m \u001b[0;34m=\u001b[0m \u001b[0mcoords\u001b[0m\u001b[0;34m.\u001b[0m\u001b[0mclone\u001b[0m\u001b[0;34m(\u001b[0m\u001b[0;34m)\u001b[0m\u001b[0;34m.\u001b[0m\u001b[0mdetach\u001b[0m\u001b[0;34m(\u001b[0m\u001b[0;34m)\u001b[0m\u001b[0;34m.\u001b[0m\u001b[0mrequires_grad_\u001b[0m\u001b[0;34m(\u001b[0m\u001b[0;32mTrue\u001b[0m\u001b[0;34m)\u001b[0m \u001b[0;31m# allows to take derivative w.r.t. input\u001b[0m\u001b[0;34m\u001b[0m\u001b[0;34m\u001b[0m\u001b[0m\n\u001b[0;32m---> 69\u001b[0;31m         \u001b[0moutput\u001b[0m \u001b[0;34m=\u001b[0m \u001b[0mself\u001b[0m\u001b[0;34m.\u001b[0m\u001b[0mnet\u001b[0m\u001b[0;34m(\u001b[0m\u001b[0mcoords\u001b[0m\u001b[0;34m)\u001b[0m\u001b[0;34m\u001b[0m\u001b[0;34m\u001b[0m\u001b[0m\n\u001b[0m\u001b[1;32m     70\u001b[0m         \u001b[0;32mreturn\u001b[0m \u001b[0moutput\u001b[0m\u001b[0;34m,\u001b[0m \u001b[0mcoords\u001b[0m\u001b[0;34m\u001b[0m\u001b[0;34m\u001b[0m\u001b[0m\n\u001b[1;32m     71\u001b[0m \u001b[0;34m\u001b[0m\u001b[0m\n",
            "\u001b[0;32m/usr/local/lib/python3.11/dist-packages/torch/nn/modules/module.py\u001b[0m in \u001b[0;36m_wrapped_call_impl\u001b[0;34m(self, *args, **kwargs)\u001b[0m\n\u001b[1;32m   1734\u001b[0m             \u001b[0;32mreturn\u001b[0m \u001b[0mself\u001b[0m\u001b[0;34m.\u001b[0m\u001b[0m_compiled_call_impl\u001b[0m\u001b[0;34m(\u001b[0m\u001b[0;34m*\u001b[0m\u001b[0margs\u001b[0m\u001b[0;34m,\u001b[0m \u001b[0;34m**\u001b[0m\u001b[0mkwargs\u001b[0m\u001b[0;34m)\u001b[0m  \u001b[0;31m# type: ignore[misc]\u001b[0m\u001b[0;34m\u001b[0m\u001b[0;34m\u001b[0m\u001b[0m\n\u001b[1;32m   1735\u001b[0m         \u001b[0;32melse\u001b[0m\u001b[0;34m:\u001b[0m\u001b[0;34m\u001b[0m\u001b[0;34m\u001b[0m\u001b[0m\n\u001b[0;32m-> 1736\u001b[0;31m             \u001b[0;32mreturn\u001b[0m \u001b[0mself\u001b[0m\u001b[0;34m.\u001b[0m\u001b[0m_call_impl\u001b[0m\u001b[0;34m(\u001b[0m\u001b[0;34m*\u001b[0m\u001b[0margs\u001b[0m\u001b[0;34m,\u001b[0m \u001b[0;34m**\u001b[0m\u001b[0mkwargs\u001b[0m\u001b[0;34m)\u001b[0m\u001b[0;34m\u001b[0m\u001b[0;34m\u001b[0m\u001b[0m\n\u001b[0m\u001b[1;32m   1737\u001b[0m \u001b[0;34m\u001b[0m\u001b[0m\n\u001b[1;32m   1738\u001b[0m     \u001b[0;31m# torchrec tests the code consistency with the following code\u001b[0m\u001b[0;34m\u001b[0m\u001b[0;34m\u001b[0m\u001b[0m\n",
            "\u001b[0;32m/usr/local/lib/python3.11/dist-packages/torch/nn/modules/module.py\u001b[0m in \u001b[0;36m_call_impl\u001b[0;34m(self, *args, **kwargs)\u001b[0m\n\u001b[1;32m   1745\u001b[0m                 \u001b[0;32mor\u001b[0m \u001b[0m_global_backward_pre_hooks\u001b[0m \u001b[0;32mor\u001b[0m \u001b[0m_global_backward_hooks\u001b[0m\u001b[0;34m\u001b[0m\u001b[0;34m\u001b[0m\u001b[0m\n\u001b[1;32m   1746\u001b[0m                 or _global_forward_hooks or _global_forward_pre_hooks):\n\u001b[0;32m-> 1747\u001b[0;31m             \u001b[0;32mreturn\u001b[0m \u001b[0mforward_call\u001b[0m\u001b[0;34m(\u001b[0m\u001b[0;34m*\u001b[0m\u001b[0margs\u001b[0m\u001b[0;34m,\u001b[0m \u001b[0;34m**\u001b[0m\u001b[0mkwargs\u001b[0m\u001b[0;34m)\u001b[0m\u001b[0;34m\u001b[0m\u001b[0;34m\u001b[0m\u001b[0m\n\u001b[0m\u001b[1;32m   1748\u001b[0m \u001b[0;34m\u001b[0m\u001b[0m\n\u001b[1;32m   1749\u001b[0m         \u001b[0mresult\u001b[0m \u001b[0;34m=\u001b[0m \u001b[0;32mNone\u001b[0m\u001b[0;34m\u001b[0m\u001b[0;34m\u001b[0m\u001b[0m\n",
            "\u001b[0;32m/usr/local/lib/python3.11/dist-packages/torch/nn/modules/container.py\u001b[0m in \u001b[0;36mforward\u001b[0;34m(self, input)\u001b[0m\n\u001b[1;32m    248\u001b[0m     \u001b[0;32mdef\u001b[0m \u001b[0mforward\u001b[0m\u001b[0;34m(\u001b[0m\u001b[0mself\u001b[0m\u001b[0;34m,\u001b[0m \u001b[0minput\u001b[0m\u001b[0;34m)\u001b[0m\u001b[0;34m:\u001b[0m\u001b[0;34m\u001b[0m\u001b[0;34m\u001b[0m\u001b[0m\n\u001b[1;32m    249\u001b[0m         \u001b[0;32mfor\u001b[0m \u001b[0mmodule\u001b[0m \u001b[0;32min\u001b[0m \u001b[0mself\u001b[0m\u001b[0;34m:\u001b[0m\u001b[0;34m\u001b[0m\u001b[0;34m\u001b[0m\u001b[0m\n\u001b[0;32m--> 250\u001b[0;31m             \u001b[0minput\u001b[0m \u001b[0;34m=\u001b[0m \u001b[0mmodule\u001b[0m\u001b[0;34m(\u001b[0m\u001b[0minput\u001b[0m\u001b[0;34m)\u001b[0m\u001b[0;34m\u001b[0m\u001b[0;34m\u001b[0m\u001b[0m\n\u001b[0m\u001b[1;32m    251\u001b[0m         \u001b[0;32mreturn\u001b[0m \u001b[0minput\u001b[0m\u001b[0;34m\u001b[0m\u001b[0;34m\u001b[0m\u001b[0m\n\u001b[1;32m    252\u001b[0m \u001b[0;34m\u001b[0m\u001b[0m\n",
            "\u001b[0;32m/usr/local/lib/python3.11/dist-packages/torch/nn/modules/module.py\u001b[0m in \u001b[0;36m_wrapped_call_impl\u001b[0;34m(self, *args, **kwargs)\u001b[0m\n\u001b[1;32m   1734\u001b[0m             \u001b[0;32mreturn\u001b[0m \u001b[0mself\u001b[0m\u001b[0;34m.\u001b[0m\u001b[0m_compiled_call_impl\u001b[0m\u001b[0;34m(\u001b[0m\u001b[0;34m*\u001b[0m\u001b[0margs\u001b[0m\u001b[0;34m,\u001b[0m \u001b[0;34m**\u001b[0m\u001b[0mkwargs\u001b[0m\u001b[0;34m)\u001b[0m  \u001b[0;31m# type: ignore[misc]\u001b[0m\u001b[0;34m\u001b[0m\u001b[0;34m\u001b[0m\u001b[0m\n\u001b[1;32m   1735\u001b[0m         \u001b[0;32melse\u001b[0m\u001b[0;34m:\u001b[0m\u001b[0;34m\u001b[0m\u001b[0;34m\u001b[0m\u001b[0m\n\u001b[0;32m-> 1736\u001b[0;31m             \u001b[0;32mreturn\u001b[0m \u001b[0mself\u001b[0m\u001b[0;34m.\u001b[0m\u001b[0m_call_impl\u001b[0m\u001b[0;34m(\u001b[0m\u001b[0;34m*\u001b[0m\u001b[0margs\u001b[0m\u001b[0;34m,\u001b[0m \u001b[0;34m**\u001b[0m\u001b[0mkwargs\u001b[0m\u001b[0;34m)\u001b[0m\u001b[0;34m\u001b[0m\u001b[0;34m\u001b[0m\u001b[0m\n\u001b[0m\u001b[1;32m   1737\u001b[0m \u001b[0;34m\u001b[0m\u001b[0m\n\u001b[1;32m   1738\u001b[0m     \u001b[0;31m# torchrec tests the code consistency with the following code\u001b[0m\u001b[0;34m\u001b[0m\u001b[0;34m\u001b[0m\u001b[0m\n",
            "\u001b[0;32m/usr/local/lib/python3.11/dist-packages/torch/nn/modules/module.py\u001b[0m in \u001b[0;36m_call_impl\u001b[0;34m(self, *args, **kwargs)\u001b[0m\n\u001b[1;32m   1745\u001b[0m                 \u001b[0;32mor\u001b[0m \u001b[0m_global_backward_pre_hooks\u001b[0m \u001b[0;32mor\u001b[0m \u001b[0m_global_backward_hooks\u001b[0m\u001b[0;34m\u001b[0m\u001b[0;34m\u001b[0m\u001b[0m\n\u001b[1;32m   1746\u001b[0m                 or _global_forward_hooks or _global_forward_pre_hooks):\n\u001b[0;32m-> 1747\u001b[0;31m             \u001b[0;32mreturn\u001b[0m \u001b[0mforward_call\u001b[0m\u001b[0;34m(\u001b[0m\u001b[0;34m*\u001b[0m\u001b[0margs\u001b[0m\u001b[0;34m,\u001b[0m \u001b[0;34m**\u001b[0m\u001b[0mkwargs\u001b[0m\u001b[0;34m)\u001b[0m\u001b[0;34m\u001b[0m\u001b[0;34m\u001b[0m\u001b[0m\n\u001b[0m\u001b[1;32m   1748\u001b[0m \u001b[0;34m\u001b[0m\u001b[0m\n\u001b[1;32m   1749\u001b[0m         \u001b[0mresult\u001b[0m \u001b[0;34m=\u001b[0m \u001b[0;32mNone\u001b[0m\u001b[0;34m\u001b[0m\u001b[0;34m\u001b[0m\u001b[0m\n",
            "\u001b[0;32m<ipython-input-2-b478c3c7c425>\u001b[0m in \u001b[0;36mforward\u001b[0;34m(self, input)\u001b[0m\n\u001b[1;32m     30\u001b[0m \u001b[0;34m\u001b[0m\u001b[0m\n\u001b[1;32m     31\u001b[0m     \u001b[0;32mdef\u001b[0m \u001b[0mforward\u001b[0m\u001b[0;34m(\u001b[0m\u001b[0mself\u001b[0m\u001b[0;34m,\u001b[0m \u001b[0minput\u001b[0m\u001b[0;34m)\u001b[0m\u001b[0;34m:\u001b[0m\u001b[0;34m\u001b[0m\u001b[0;34m\u001b[0m\u001b[0m\n\u001b[0;32m---> 32\u001b[0;31m         \u001b[0;32mreturn\u001b[0m \u001b[0mtorch\u001b[0m\u001b[0;34m.\u001b[0m\u001b[0msin\u001b[0m\u001b[0;34m(\u001b[0m\u001b[0mself\u001b[0m\u001b[0;34m.\u001b[0m\u001b[0momega_0\u001b[0m \u001b[0;34m*\u001b[0m \u001b[0mself\u001b[0m\u001b[0;34m.\u001b[0m\u001b[0mlinear\u001b[0m\u001b[0;34m(\u001b[0m\u001b[0minput\u001b[0m\u001b[0;34m)\u001b[0m\u001b[0;34m)\u001b[0m\u001b[0;34m\u001b[0m\u001b[0;34m\u001b[0m\u001b[0m\n\u001b[0m\u001b[1;32m     33\u001b[0m \u001b[0;34m\u001b[0m\u001b[0m\n\u001b[1;32m     34\u001b[0m     \u001b[0;32mdef\u001b[0m \u001b[0mforward_with_intermediate\u001b[0m\u001b[0;34m(\u001b[0m\u001b[0mself\u001b[0m\u001b[0;34m,\u001b[0m \u001b[0minput\u001b[0m\u001b[0;34m)\u001b[0m\u001b[0;34m:\u001b[0m\u001b[0;34m\u001b[0m\u001b[0;34m\u001b[0m\u001b[0m\n",
            "\u001b[0;31mKeyboardInterrupt\u001b[0m: "
          ]
        }
      ]
    },
    {
      "cell_type": "code",
      "source": [
        "channels = [1, 2]  # Green (1), Blue (2)\n",
        "channel_names = [\"Green\", \"Blue\"]\n",
        "\n",
        "# 데이터셋 및 데이터로더 한 번만 생성\n",
        "dataset = ImageFitting(height=1900, width=2100, file_path=file_path)\n",
        "dataloader = DataLoader(dataset, batch_size=1, pin_memory=True, num_workers=0)\n",
        "\n",
        "models = {}\n",
        "optimizers = {}\n",
        "\n",
        "total_steps = 100  # 원하는 학습 횟수 설정\n",
        "\n",
        "for idx, channel in enumerate(channels):\n",
        "    print(f\"Training {channel_names[idx]} channel...\")\n",
        "\n",
        "    model = Siren(in_features=2, out_features=1, hidden_features=256,\n",
        "                  hidden_layers=3, outermost_linear=True).to('cpu')\n",
        "\n",
        "    optimizer = torch.optim.Adam(model.parameters(), lr=1e-4)\n",
        "\n",
        "    models[channel] = model\n",
        "    optimizers[channel] = optimizer\n",
        "\n",
        "    for step, (model_input, ground_truth) in enumerate(dataloader):\n",
        "        if step >= total_steps:  # 🔥 500번 학습 후 중단\n",
        "            break\n",
        "\n",
        "        model_input = model_input.to('cpu', torch.float32)\n",
        "\n",
        "        # 🔥 ground_truth의 shape 처리\n",
        "        if ground_truth.shape[-1] == 1:  # (H, W, 1) → (H, W)\n",
        "            ground_truth = ground_truth.squeeze(-1).to('cpu')\n",
        "        else:  # (H, W, 3)인 경우 특정 채널 선택\n",
        "            ground_truth = ground_truth[:, :, channel].to('cpu')\n",
        "\n",
        "        model_output, _ = model(model_input)\n",
        "        loss = ((model_output - ground_truth) ** 2).mean()\n",
        "\n",
        "        if step % 10 == 0:\n",
        "            print(f\"Step {step}, {channel_names[idx]} Loss: {loss.item():.6f}\")\n",
        "\n",
        "            with torch.no_grad():\n",
        "                output_image = model_output.cpu().view(1900, 2100).detach().numpy()\n",
        "\n",
        "                fig, ax = plt.subplots(figsize=(6, 6))\n",
        "                ax.imshow(output_image, cmap=\"gray\")\n",
        "                ax.set_title(f\"{channel_names[idx]} Channel (Step {step})\")\n",
        "                ax.axis(\"off\")\n",
        "\n",
        "                plt.show()\n",
        "\n",
        "        optimizer.zero_grad()\n",
        "        loss.backward()\n",
        "        optimizer.step()\n"
      ],
      "metadata": {
        "id": "e5NYU-_EWvFC",
        "outputId": "d51dd414-b8f0-4bb5-fd0e-f8b045f89d44",
        "colab": {
          "base_uri": "https://localhost:8080/"
        }
      },
      "execution_count": null,
      "outputs": [
        {
          "output_type": "stream",
          "name": "stdout",
          "text": [
            "Training Green channel...\n"
          ]
        }
      ]
    },
    {
      "cell_type": "code",
      "source": [
        "print(ground_truth.shape)"
      ],
      "metadata": {
        "id": "UE3B_ZAiXpQx",
        "outputId": "fcb9b0fd-a22a-49e6-8805-6642266e63ef",
        "colab": {
          "base_uri": "https://localhost:8080/"
        }
      },
      "execution_count": 15,
      "outputs": [
        {
          "output_type": "stream",
          "name": "stdout",
          "text": [
            "torch.Size([1, 3990000, 1])\n"
          ]
        }
      ]
    },
    {
      "cell_type": "code",
      "execution_count": null,
      "metadata": {
        "id": "t5iWjNbg02gZ"
      },
      "outputs": [],
      "source": [
        "total_steps = 500 # Since the whole image is our dataset, this just means 500 gradient descent steps.\n",
        "steps_til_summary = 10\n",
        "\n",
        "optim = torch.optim.Adam(lr=1e-4, params=img_siren.parameters())\n",
        "\n",
        "model_input, ground_truth = next(iter(dataloader))\n",
        "model_input, ground_truth = model_input.to('cpu'), ground_truth.to('cpu')\n",
        "\n",
        "for step in range(total_steps):\n",
        "    model_output, coords = img_siren(model_input)\n",
        "    loss = ((model_output - ground_truth)**2).mean()\n",
        "\n",
        "    if not step % steps_til_summary:\n",
        "        print(\"Step %d, Total loss %0.6f\" % (step, loss))\n",
        "        img_grad = gradient(model_output, coords)\n",
        "        img_laplacian = laplace(model_output, coords)\n",
        "\n",
        "        fig, axes = plt.subplots(1,3, figsize=(18,6))\n",
        "        axes[0].imshow(model_output.cpu().view(256,256).detach().numpy())\n",
        "        axes[1].imshow(img_grad.norm(dim=-1).cpu().view(256,256).detach().numpy())\n",
        "        axes[2].imshow(img_laplacian.cpu().view(256,256).detach().numpy())\n",
        "        plt.show()\n",
        "\n",
        "    optim.zero_grad()\n",
        "    loss.backward()\n",
        "    optim.step()"
      ]
    },
    {
      "cell_type": "markdown",
      "metadata": {
        "id": "kI7hJoLR02ga"
      },
      "source": [
        "<a id='out_of_range'></a>\n",
        "## Case study: Siren periodicity & out-of-range behavior\n",
        "\n",
        "It is known that the sum of two periodic signals is itself periodic with a period that is equal to the least common multiple of the periods of the two summands, if and only if the two periods are rational multiples of each other. If the ratio of the two periods is irrational, then their sum will *not* be periodic itself.\n",
        "\n",
        "Due to the floating-point representation in neural network libraries, this case cannot occur in practice, and all functions parameterized by Siren indeed have to be periodic.\n",
        "\n",
        "Yet, the period of the resulting function may in practice be several orders of magnitudes larger than the period of each Siren neuron!\n",
        "\n",
        "Let's test this with two sines."
      ]
    },
    {
      "cell_type": "code",
      "execution_count": null,
      "metadata": {
        "id": "A1m7XICY02ge"
      },
      "outputs": [],
      "source": [
        "with torch.no_grad():\n",
        "    coords = get_mgrid(2**10, 1) * 5 * np.pi\n",
        "\n",
        "    sin_1 = torch.sin(coords)\n",
        "    sin_2 = torch.sin(coords * 2)\n",
        "    sum = sin_1 + sin_2\n",
        "\n",
        "    fig, ax = plt.subplots(figsize=(16,2))\n",
        "    ax.plot(coords, sum)\n",
        "    ax.plot(coords, sin_1)\n",
        "    ax.plot(coords, sin_2)\n",
        "    plt.title(\"Rational multiple\")\n",
        "    plt.show()\n",
        "\n",
        "    sin_1 = torch.sin(coords)\n",
        "    sin_2 = torch.sin(coords * np.pi)\n",
        "    sum = sin_1 + sin_2\n",
        "\n",
        "    fig, ax = plt.subplots(figsize=(16,2))\n",
        "    ax.plot(coords, sum)\n",
        "    ax.plot(coords, sin_1)\n",
        "    ax.plot(coords, sin_2)\n",
        "    plt.title(\"Pseudo-irrational multiple\")\n",
        "    plt.show()"
      ]
    },
    {
      "cell_type": "markdown",
      "metadata": {
        "id": "yj6zXwmI02gf"
      },
      "source": [
        "Though the second plot looks periodic, closer inspection shows that the period of the blue line is indeed larger than the range we're sampling here.\n",
        "\n",
        "Let's take a look at what the Siren we just trained looks like outside its training domain!"
      ]
    },
    {
      "cell_type": "code",
      "execution_count": null,
      "metadata": {
        "pycharm": {
          "name": "#%%\n"
        },
        "id": "pwWSZMxZ02gg"
      },
      "outputs": [],
      "source": [
        "with torch.no_grad():\n",
        "    out_of_range_coords = get_mgrid(1024, 2) * 50\n",
        "    model_out, _ = img_siren(out_of_range_coords.cuda())\n",
        "\n",
        "    fig, ax = plt.subplots(figsize=(16,16))\n",
        "    ax.imshow(model_out.cpu().view(1024,1024).numpy())\n",
        "    plt.show()"
      ]
    },
    {
      "cell_type": "markdown",
      "metadata": {
        "pycharm": {
          "name": "#%% md\n"
        },
        "id": "M6nrmML302gi"
      },
      "source": [
        "Though there is some self-similarity, the signal is not repeated on this range of (-50, 50)."
      ]
    },
    {
      "cell_type": "markdown",
      "metadata": {
        "id": "HRp9FeDr02gi"
      },
      "source": [
        "## Fitting an audio signal\n",
        "<a id='section_2'></a>\n",
        "\n",
        "Here, we'll use Siren to parameterize an audio signal - i.e., we seek to parameterize an audio waverform $f(t)$  at time points $t$ by a SIREN $\\Phi$.\n",
        "\n",
        "That is we seek the function $\\Phi$ such that:  $\\mathcal{L}\\int_\\Omega \\lVert \\Phi(t) - f(t) \\rVert \\mathrm{d}t$  is minimized, in which  $\\Omega$  is the domain of the waveform.\n",
        "\n",
        "For the audio, we'll use the bach sonata:"
      ]
    },
    {
      "cell_type": "code",
      "execution_count": null,
      "metadata": {
        "id": "AtbtANlx02gj"
      },
      "outputs": [],
      "source": [
        "import scipy.io.wavfile as wavfile\n",
        "import io\n",
        "from IPython.display import Audio\n",
        "\n",
        "if not os.path.exists('gt_bach.wav'):\n",
        "    !wget https://vsitzmann.github.io/siren/img/audio/gt_bach.wav"
      ]
    },
    {
      "cell_type": "markdown",
      "metadata": {
        "pycharm": {
          "name": "#%% md\n"
        },
        "id": "SM4JeFVn02gl"
      },
      "source": [
        "Let's build a little dataset that computes coordinates for audio files:"
      ]
    },
    {
      "cell_type": "code",
      "execution_count": null,
      "metadata": {
        "id": "53A4n7rH02gl"
      },
      "outputs": [],
      "source": [
        "class AudioFile(torch.utils.data.Dataset):\n",
        "    def __init__(self, filename):\n",
        "        self.rate, self.data = wavfile.read(filename)\n",
        "        self.data = self.data.astype(np.float32)\n",
        "        self.timepoints = get_mgrid(len(self.data), 1)\n",
        "\n",
        "    def get_num_samples(self):\n",
        "        return self.timepoints.shape[0]\n",
        "\n",
        "    def __len__(self):\n",
        "        return 1\n",
        "\n",
        "    def __getitem__(self, idx):\n",
        "        amplitude = self.data\n",
        "        scale = np.max(np.abs(amplitude))\n",
        "        amplitude = (amplitude / scale)\n",
        "        amplitude = torch.Tensor(amplitude).view(-1, 1)\n",
        "        return self.timepoints, amplitude"
      ]
    },
    {
      "cell_type": "markdown",
      "metadata": {
        "pycharm": {
          "name": "#%% md\n"
        },
        "id": "vSBNBLKz02gm"
      },
      "source": [
        "Let's instantiate the Siren. As this audio signal has a much higer spatial frequency on the range of -1 to 1, we increase the $\\omega_0$ in the first layer of siren."
      ]
    },
    {
      "cell_type": "code",
      "execution_count": null,
      "metadata": {
        "id": "NLizTq7k02gm"
      },
      "outputs": [],
      "source": [
        "bach_audio = AudioFile('gt_bach.wav')\n",
        "\n",
        "dataloader = DataLoader(bach_audio, shuffle=True, batch_size=1, pin_memory=True, num_workers=0)\n",
        "\n",
        "# Note that we increase the frequency of the first layer to match the higher frequencies of the\n",
        "# audio signal. Equivalently, we could also increase the range of the input coordinates.\n",
        "audio_siren = Siren(in_features=1, out_features=1, hidden_features=256,\n",
        "                    hidden_layers=3, first_omega_0=3000, outermost_linear=True)\n",
        "audio_siren.cuda()"
      ]
    },
    {
      "cell_type": "markdown",
      "metadata": {
        "id": "ISqJz4Bw02gn"
      },
      "source": [
        "Let's have a quick listen to ground truth:"
      ]
    },
    {
      "cell_type": "code",
      "execution_count": null,
      "metadata": {
        "id": "TddVwUZ002gn"
      },
      "outputs": [],
      "source": [
        "rate, _ = wavfile.read('gt_bach.wav')\n",
        "\n",
        "model_input, ground_truth = next(iter(dataloader))\n",
        "Audio(ground_truth.squeeze().numpy(),rate=rate)"
      ]
    },
    {
      "cell_type": "markdown",
      "metadata": {
        "id": "rMCBo7Nt02go"
      },
      "source": [
        "We now fit the Siren to this signal."
      ]
    },
    {
      "cell_type": "code",
      "execution_count": null,
      "metadata": {
        "id": "yRWn-us702go"
      },
      "outputs": [],
      "source": [
        "total_steps = 1000\n",
        "steps_til_summary = 100\n",
        "\n",
        "optim = torch.optim.Adam(lr=1e-4, params=audio_siren.parameters())\n",
        "\n",
        "model_input, ground_truth = next(iter(dataloader))\n",
        "model_input, ground_truth = model_input.cuda(), ground_truth.cuda()\n",
        "\n",
        "for step in range(total_steps):\n",
        "    model_output, coords = audio_siren(model_input)\n",
        "    loss = F.mse_loss(model_output, ground_truth)\n",
        "\n",
        "    if not step % steps_til_summary:\n",
        "        print(\"Step %d, Total loss %0.6f\" % (step, loss))\n",
        "\n",
        "        fig, axes = plt.subplots(1,2)\n",
        "        axes[0].plot(coords.squeeze().detach().cpu().numpy(),model_output.squeeze().detach().cpu().numpy())\n",
        "        axes[1].plot(coords.squeeze().detach().cpu().numpy(),ground_truth.squeeze().detach().cpu().numpy())\n",
        "        plt.show()\n",
        "\n",
        "    optim.zero_grad()\n",
        "    loss.backward()\n",
        "    optim.step()"
      ]
    },
    {
      "cell_type": "code",
      "execution_count": null,
      "metadata": {
        "pycharm": {
          "name": "#%%\n"
        },
        "id": "yYi0uhJE02gp"
      },
      "outputs": [],
      "source": [
        "final_model_output, coords = audio_siren(model_input)\n",
        "Audio(final_model_output.cpu().detach().squeeze().numpy(),rate=rate)"
      ]
    },
    {
      "cell_type": "markdown",
      "metadata": {
        "pycharm": {
          "name": "#%% md\n"
        },
        "id": "neCWO3QI02gp"
      },
      "source": [
        "As we can see, within few iterations, Siren has approximated the audio signal very well!"
      ]
    },
    {
      "cell_type": "markdown",
      "metadata": {
        "id": "q6pqOIpi02gp"
      },
      "source": [
        "<a id='section_3'></a>\n",
        "## Solving Poisson's equation\n",
        "\n",
        "Now, let's make it a bit harder. Let's say we want to reconstruct an image but we only have access to its gradients!\n",
        "\n",
        "That is, we now seek the function $\\Phi$ such that:\n",
        "$\\mathcal{L}=\\int_{\\Omega} \\lVert \\nabla\\Phi(\\mathbf{x}) - \\nabla f(\\mathbf{x}) \\rVert\\mathrm{d}\\mathbf{x}$\n",
        " is minimized, in which $\\Omega$ is the domain of the image."
      ]
    },
    {
      "cell_type": "code",
      "execution_count": null,
      "metadata": {
        "pycharm": {
          "name": "#%%\n"
        },
        "id": "qyifolUA02gq"
      },
      "outputs": [],
      "source": [
        "import scipy.ndimage\n",
        "\n",
        "class PoissonEqn(Dataset):\n",
        "    def __init__(self, sidelength):\n",
        "        super().__init__()\n",
        "        img = get_cameraman_tensor(sidelength)\n",
        "\n",
        "        # Compute gradient and laplacian\n",
        "        grads_x = scipy.ndimage.sobel(img.numpy(), axis=1).squeeze(0)[..., None]\n",
        "        grads_y = scipy.ndimage.sobel(img.numpy(), axis=2).squeeze(0)[..., None]\n",
        "        grads_x, grads_y = torch.from_numpy(grads_x), torch.from_numpy(grads_y)\n",
        "\n",
        "        self.grads = torch.stack((grads_x, grads_y), dim=-1).view(-1, 2)\n",
        "        self.laplace = scipy.ndimage.laplace(img.numpy()).squeeze(0)[..., None]\n",
        "        self.laplace = torch.from_numpy(self.laplace)\n",
        "\n",
        "        self.pixels = img.permute(1, 2, 0).view(-1, 1)\n",
        "        self.coords = get_mgrid(sidelength, 2)\n",
        "\n",
        "    def __len__(self):\n",
        "        return 1\n",
        "\n",
        "    def __getitem__(self, idx):\n",
        "        return self.coords, {'pixels':self.pixels, 'grads':self.grads, 'laplace':self.laplace}"
      ]
    },
    {
      "cell_type": "markdown",
      "metadata": {
        "pycharm": {
          "name": "#%% md\n"
        },
        "id": "2z8DP45R02gr"
      },
      "source": [
        "#### Instantiate SIREN model"
      ]
    },
    {
      "cell_type": "code",
      "execution_count": null,
      "metadata": {
        "pycharm": {
          "name": "#%%\n"
        },
        "id": "qVLbho3K02gr"
      },
      "outputs": [],
      "source": [
        "cameraman_poisson = PoissonEqn(128)\n",
        "dataloader = DataLoader(cameraman_poisson, batch_size=1, pin_memory=True, num_workers=0)\n",
        "\n",
        "poisson_siren = Siren(in_features=2, out_features=1, hidden_features=256,\n",
        "                      hidden_layers=3, outermost_linear=True)\n",
        "poisson_siren.cuda()"
      ]
    },
    {
      "cell_type": "markdown",
      "metadata": {
        "pycharm": {
          "name": "#%% md\n"
        },
        "id": "xh032YzH02gr"
      },
      "source": [
        "#### Define the loss function"
      ]
    },
    {
      "cell_type": "code",
      "execution_count": null,
      "metadata": {
        "pycharm": {
          "name": "#%%\n"
        },
        "id": "Ony7nh-U02gs"
      },
      "outputs": [],
      "source": [
        "def gradients_mse(model_output, coords, gt_gradients):\n",
        "    # compute gradients on the model\n",
        "    gradients = gradient(model_output, coords)\n",
        "    # compare them with the ground-truth\n",
        "    gradients_loss = torch.mean((gradients - gt_gradients).pow(2).sum(-1))\n",
        "    return gradients_loss"
      ]
    },
    {
      "cell_type": "markdown",
      "metadata": {
        "pycharm": {
          "name": "#%% md\n"
        },
        "id": "lSlqlrhM02gt"
      },
      "source": [
        "#### Train the model"
      ]
    },
    {
      "cell_type": "code",
      "execution_count": null,
      "metadata": {
        "pycharm": {
          "is_executing": true,
          "name": "#%%\n"
        },
        "id": "uU46Irea02gt"
      },
      "outputs": [],
      "source": [
        "total_steps = 1000\n",
        "steps_til_summary = 10\n",
        "\n",
        "optim = torch.optim.Adam(lr=1e-4, params=poisson_siren.parameters())\n",
        "\n",
        "model_input, gt = next(iter(dataloader))\n",
        "gt = {key: value.cuda() for key, value in gt.items()}\n",
        "model_input = model_input.cuda()\n",
        "\n",
        "for step in range(total_steps):\n",
        "    start_time = time.time()\n",
        "\n",
        "    model_output, coords = poisson_siren(model_input)\n",
        "    train_loss = gradients_mse(model_output, coords, gt['grads'])\n",
        "\n",
        "    if not step % steps_til_summary:\n",
        "        print(\"Step %d, Total loss %0.6f, iteration time %0.6f\" % (step, train_loss, time.time() - start_time))\n",
        "\n",
        "        img_grad = gradient(model_output, coords)\n",
        "        img_laplacian = laplace(model_output, coords)\n",
        "\n",
        "        fig, axes = plt.subplots(1, 3, figsize=(18, 6))\n",
        "        axes[0].imshow(model_output.cpu().view(128,128).detach().numpy())\n",
        "        axes[1].imshow(img_grad.cpu().norm(dim=-1).view(128,128).detach().numpy())\n",
        "        axes[2].imshow(img_laplacian.cpu().view(128,128).detach().numpy())\n",
        "        plt.show()\n",
        "\n",
        "    optim.zero_grad()\n",
        "    train_loss.backward()\n",
        "    optim.step()"
      ]
    },
    {
      "cell_type": "markdown",
      "metadata": {
        "pycharm": {
          "name": "#%% md\n"
        },
        "id": "g6O060CQ02he"
      },
      "source": [
        "<a id='activations'></a>\n",
        "## Initialization scheme & distribution of activations\n",
        "\n",
        "We now reproduce the empirical result on the distribution of activations, and will thereafter show empirically that the distribution of activations is shift-invariant as well!"
      ]
    },
    {
      "cell_type": "code",
      "execution_count": null,
      "metadata": {
        "pycharm": {
          "name": "#%%\n"
        },
        "id": "AW2MVhqu02hf"
      },
      "outputs": [],
      "source": [
        "from collections import OrderedDict\n",
        "import matplotlib\n",
        "import numpy.fft as fft\n",
        "import scipy.stats as stats\n",
        "\n",
        "\n",
        "def eformat(f, prec, exp_digits):\n",
        "    s = \"%.*e\"%(prec, f)\n",
        "    mantissa, exp = s.split('e')\n",
        "    # add 1 to digits as 1 is taken by sign +/-\n",
        "    return \"%se%+0*d\"%(mantissa, exp_digits+1, int(exp))\n",
        "\n",
        "def format_x_ticks(x, pos):\n",
        "    \"\"\"Format odd tick positions\n",
        "    \"\"\"\n",
        "    return eformat(x, 0, 1)\n",
        "\n",
        "def format_y_ticks(x, pos):\n",
        "    \"\"\"Format odd tick positions\n",
        "    \"\"\"\n",
        "    return eformat(x, 0, 1)\n",
        "\n",
        "def get_spectrum(activations):\n",
        "    n = activations.shape[0]\n",
        "\n",
        "    spectrum = fft.fft(activations.numpy().astype(np.double).sum(axis=-1), axis=0)[:n//2]\n",
        "    spectrum = np.abs(spectrum)\n",
        "\n",
        "    max_freq = 100\n",
        "    freq = fft.fftfreq(n, 2./n)[:n//2]\n",
        "    return freq[:max_freq], spectrum[:max_freq]\n",
        "\n",
        "\n",
        "def plot_all_activations_and_grads(activations):\n",
        "    num_cols = 4\n",
        "    num_rows = len(activations)\n",
        "\n",
        "    fig_width = 5.5\n",
        "    fig_height = num_rows/num_cols*fig_width\n",
        "    fig_height = 9\n",
        "\n",
        "    fontsize = 5\n",
        "\n",
        "    fig, axs = plt.subplots(num_rows, num_cols, gridspec_kw={'hspace': 0.3, 'wspace': 0.2},\n",
        "                            figsize=(fig_width, fig_height), dpi=300)\n",
        "\n",
        "    axs[0][0].set_title(\"Activation Distribution\", fontsize=7, fontfamily='serif', pad=5.)\n",
        "    axs[0][1].set_title(\"Activation Spectrum\", fontsize=7, fontfamily='serif', pad=5.)\n",
        "    axs[0][2].set_title(\"Gradient Distribution\", fontsize=7, fontfamily='serif', pad=5.)\n",
        "    axs[0][3].set_title(\"Gradient Spectrum\", fontsize=7, fontfamily='serif', pad=5.)\n",
        "\n",
        "    x_formatter = matplotlib.ticker.FuncFormatter(format_x_ticks)\n",
        "    y_formatter = matplotlib.ticker.FuncFormatter(format_y_ticks)\n",
        "\n",
        "    spec_rows = []\n",
        "    for idx, (key, value) in enumerate(activations.items()):\n",
        "        grad_value = value.grad.cpu().detach().squeeze(0)\n",
        "        flat_grad = grad_value.view(-1)\n",
        "        axs[idx][2].hist(flat_grad, bins=256, density=True)\n",
        "\n",
        "        value = value.cpu().detach().squeeze(0) # (1, num_points, 256)\n",
        "        n = value.shape[0]\n",
        "        flat_value = value.view(-1)\n",
        "\n",
        "        axs[idx][0].hist(flat_value, bins=256, density=True)\n",
        "\n",
        "        if idx>1:\n",
        "            if not (idx)%2:\n",
        "                x = np.linspace(-1, 1., 500)\n",
        "                axs[idx][0].plot(x, stats.arcsine.pdf(x, -1, 2),\n",
        "                                 linestyle=':', markersize=0.4, zorder=2)\n",
        "            else:\n",
        "                mu = 0\n",
        "                variance = 1\n",
        "                sigma = np.sqrt(variance)\n",
        "                x = np.linspace(mu - 3*sigma, mu + 3*sigma, 500)\n",
        "                axs[idx][0].plot(x, stats.norm.pdf(x, mu, sigma),\n",
        "                                 linestyle=':', markersize=0.4, zorder=2)\n",
        "\n",
        "        activ_freq, activ_spec = get_spectrum(value)\n",
        "        axs[idx][1].plot(activ_freq, activ_spec)\n",
        "\n",
        "        grad_freq, grad_spec = get_spectrum(grad_value)\n",
        "        axs[idx][-1].plot(grad_freq, grad_spec)\n",
        "\n",
        "        for ax in axs[idx]:\n",
        "            ax.tick_params(axis='both', which='major', direction='in',\n",
        "                                    labelsize=fontsize, pad=1., zorder=10)\n",
        "            ax.tick_params(axis='x', labelrotation=0, pad=1.5, zorder=10)\n",
        "\n",
        "            ax.xaxis.set_major_formatter(x_formatter)\n",
        "            ax.yaxis.set_major_formatter(y_formatter)"
      ]
    },
    {
      "cell_type": "code",
      "execution_count": null,
      "metadata": {
        "pycharm": {
          "name": "#%%\n"
        },
        "id": "OUy_Jrsl02hg"
      },
      "outputs": [],
      "source": [
        "model = Siren(in_features=1, hidden_features=2048,\n",
        "              hidden_layers=10, out_features=1, outermost_linear=True)\n",
        "\n",
        "input_signal = torch.linspace(-1, 1, 65536//4).view(1, 65536//4, 1)\n",
        "activations = model.forward_with_activations(input_signal, retain_grad=True)\n",
        "output = activations[next(reversed(activations))]\n",
        "\n",
        "# Compute gradients. Because we have retain_grad=True on\n",
        "# activations, each activation stores its own gradient!\n",
        "output.mean().backward()\n",
        "\n",
        "plot_all_activations_and_grads(activations)"
      ]
    },
    {
      "cell_type": "markdown",
      "metadata": {
        "id": "MHGnOh9202hh"
      },
      "source": [
        "Note how the activations of Siren always alternate between a standard normal distribution with standard deviation one, and an arcsine distribution. If you have a beefy computer, you can put this to the extreme and increase the number of layers - this property holds even for more than 50 layers!"
      ]
    },
    {
      "cell_type": "markdown",
      "metadata": {
        "id": "nZrLio1y02hh"
      },
      "source": [
        "<a id='shift_invariance'></a>\n",
        "## Distribution of activations is shift-invariant\n",
        "\n",
        "One of the key properties of the periodic sine nonlinearity is that it affords a degree of shift-invariance. Consider the first layer of a Siren: You can convince yourself that this layer can easily learn to map two different coordinates to *the same set of activations*. This means that whatever layers come afterwards will apply the same function to these two sets of coordinates.\n",
        "\n",
        "Moreoever, the distribution of activations similarly are shift-invariant. Let's shift our input signal by 1000 and re-compute the activations:"
      ]
    },
    {
      "cell_type": "code",
      "execution_count": null,
      "metadata": {
        "scrolled": true,
        "id": "BR9rsiGW02hi"
      },
      "outputs": [],
      "source": [
        "input_signal = torch.linspace(-1, 1, 65536//4).view(1, 65536//4, 1) + 1000\n",
        "activations = model.forward_with_activations(input_signal, retain_grad=True)\n",
        "output = activations[next(reversed(activations))]\n",
        "\n",
        "# Compute gradients. Because we have retain_grad=True on\n",
        "# activations, each activation stores its own gradient!\n",
        "output.mean().backward()\n",
        "\n",
        "plot_all_activations_and_grads(activations)"
      ]
    },
    {
      "cell_type": "markdown",
      "metadata": {
        "id": "OpO8Pyzz02hi"
      },
      "source": [
        "As we can see, the distributions of activations didn't change at all - they are perfectly invariant to the shift."
      ]
    }
  ],
  "metadata": {
    "kernelspec": {
      "display_name": "Python 3",
      "name": "python3"
    },
    "language_info": {
      "codemirror_mode": {
        "name": "ipython",
        "version": 3
      },
      "file_extension": ".py",
      "mimetype": "text/x-python",
      "name": "python",
      "nbconvert_exporter": "python",
      "pygments_lexer": "ipython3",
      "version": "3.7.4"
    },
    "pycharm": {
      "stem_cell": {
        "cell_type": "raw",
        "metadata": {
          "collapsed": false
        },
        "source": []
      }
    },
    "colab": {
      "provenance": [],
      "machine_shape": "hm"
    },
    "widgets": {
      "application/vnd.jupyter.widget-state+json": {
        "9404f8256d2d40e296b441e34d7c64e7": {
          "model_module": "@jupyter-widgets/controls",
          "model_name": "VBoxModel",
          "model_module_version": "1.5.0",
          "state": {
            "_dom_classes": [],
            "_model_module": "@jupyter-widgets/controls",
            "_model_module_version": "1.5.0",
            "_model_name": "VBoxModel",
            "_view_count": null,
            "_view_module": "@jupyter-widgets/controls",
            "_view_module_version": "1.5.0",
            "_view_name": "VBoxView",
            "box_style": "",
            "children": [],
            "layout": "IPY_MODEL_3c3f122068bb400aa5f98f4ad95f8b25"
          }
        },
        "fc31153b4c23451f8e730183a0e3f53d": {
          "model_module": "@jupyter-widgets/controls",
          "model_name": "HTMLModel",
          "model_module_version": "1.5.0",
          "state": {
            "_dom_classes": [],
            "_model_module": "@jupyter-widgets/controls",
            "_model_module_version": "1.5.0",
            "_model_name": "HTMLModel",
            "_view_count": null,
            "_view_module": "@jupyter-widgets/controls",
            "_view_module_version": "1.5.0",
            "_view_name": "HTMLView",
            "description": "",
            "description_tooltip": null,
            "layout": "IPY_MODEL_b56e61ec36664cebb10db08ba763df37",
            "placeholder": "​",
            "style": "IPY_MODEL_0a8977d9d30b429782e6038f2b015561",
            "value": "<center> <img\nsrc=https://huggingface.co/front/assets/huggingface_logo-noborder.svg\nalt='Hugging Face'> <br> Copy a token from <a\nhref=\"https://huggingface.co/settings/tokens\" target=\"_blank\">your Hugging Face\ntokens page</a> and paste it below. <br> Immediately click login after copying\nyour token or it might be stored in plain text in this notebook file. </center>"
          }
        },
        "0b64232268294b309b8d132ef1dc402d": {
          "model_module": "@jupyter-widgets/controls",
          "model_name": "PasswordModel",
          "model_module_version": "1.5.0",
          "state": {
            "_dom_classes": [],
            "_model_module": "@jupyter-widgets/controls",
            "_model_module_version": "1.5.0",
            "_model_name": "PasswordModel",
            "_view_count": null,
            "_view_module": "@jupyter-widgets/controls",
            "_view_module_version": "1.5.0",
            "_view_name": "PasswordView",
            "continuous_update": true,
            "description": "Token:",
            "description_tooltip": null,
            "disabled": false,
            "layout": "IPY_MODEL_f0a35dea9d614c09b47f4386faa1cff1",
            "placeholder": "​",
            "style": "IPY_MODEL_2dc60b12c2b444d789ce2a9a4b1588f7",
            "value": ""
          }
        },
        "0edab4507f7746b0bd54f7c195cbfa90": {
          "model_module": "@jupyter-widgets/controls",
          "model_name": "CheckboxModel",
          "model_module_version": "1.5.0",
          "state": {
            "_dom_classes": [],
            "_model_module": "@jupyter-widgets/controls",
            "_model_module_version": "1.5.0",
            "_model_name": "CheckboxModel",
            "_view_count": null,
            "_view_module": "@jupyter-widgets/controls",
            "_view_module_version": "1.5.0",
            "_view_name": "CheckboxView",
            "description": "Add token as git credential?",
            "description_tooltip": null,
            "disabled": false,
            "indent": true,
            "layout": "IPY_MODEL_eb777e0dc5694954afc3312c26f42139",
            "style": "IPY_MODEL_7ae0065251f34ad09bf67d3ab5923ed2",
            "value": true
          }
        },
        "3bf2750dbff94665bb67eee8b42fce7f": {
          "model_module": "@jupyter-widgets/controls",
          "model_name": "ButtonModel",
          "model_module_version": "1.5.0",
          "state": {
            "_dom_classes": [],
            "_model_module": "@jupyter-widgets/controls",
            "_model_module_version": "1.5.0",
            "_model_name": "ButtonModel",
            "_view_count": null,
            "_view_module": "@jupyter-widgets/controls",
            "_view_module_version": "1.5.0",
            "_view_name": "ButtonView",
            "button_style": "",
            "description": "Login",
            "disabled": false,
            "icon": "",
            "layout": "IPY_MODEL_7c562d416fff403fad70ef6f622e80ed",
            "style": "IPY_MODEL_63bae70e3308408bb50b31a8f1d0908f",
            "tooltip": ""
          }
        },
        "a4a8e7b96dfb423589242f9877945445": {
          "model_module": "@jupyter-widgets/controls",
          "model_name": "HTMLModel",
          "model_module_version": "1.5.0",
          "state": {
            "_dom_classes": [],
            "_model_module": "@jupyter-widgets/controls",
            "_model_module_version": "1.5.0",
            "_model_name": "HTMLModel",
            "_view_count": null,
            "_view_module": "@jupyter-widgets/controls",
            "_view_module_version": "1.5.0",
            "_view_name": "HTMLView",
            "description": "",
            "description_tooltip": null,
            "layout": "IPY_MODEL_068fc3ab19b546ef8f9e4dcddf92bb2d",
            "placeholder": "​",
            "style": "IPY_MODEL_14c9f026521749f7b42a6597c204072e",
            "value": "\n<b>Pro Tip:</b> If you don't already have one, you can create a dedicated\n'notebooks' token with 'write' access, that you can then easily reuse for all\nnotebooks. </center>"
          }
        },
        "3c3f122068bb400aa5f98f4ad95f8b25": {
          "model_module": "@jupyter-widgets/base",
          "model_name": "LayoutModel",
          "model_module_version": "1.2.0",
          "state": {
            "_model_module": "@jupyter-widgets/base",
            "_model_module_version": "1.2.0",
            "_model_name": "LayoutModel",
            "_view_count": null,
            "_view_module": "@jupyter-widgets/base",
            "_view_module_version": "1.2.0",
            "_view_name": "LayoutView",
            "align_content": null,
            "align_items": "center",
            "align_self": null,
            "border": null,
            "bottom": null,
            "display": "flex",
            "flex": null,
            "flex_flow": "column",
            "grid_area": null,
            "grid_auto_columns": null,
            "grid_auto_flow": null,
            "grid_auto_rows": null,
            "grid_column": null,
            "grid_gap": null,
            "grid_row": null,
            "grid_template_areas": null,
            "grid_template_columns": null,
            "grid_template_rows": null,
            "height": null,
            "justify_content": null,
            "justify_items": null,
            "left": null,
            "margin": null,
            "max_height": null,
            "max_width": null,
            "min_height": null,
            "min_width": null,
            "object_fit": null,
            "object_position": null,
            "order": null,
            "overflow": null,
            "overflow_x": null,
            "overflow_y": null,
            "padding": null,
            "right": null,
            "top": null,
            "visibility": null,
            "width": "50%"
          }
        },
        "b56e61ec36664cebb10db08ba763df37": {
          "model_module": "@jupyter-widgets/base",
          "model_name": "LayoutModel",
          "model_module_version": "1.2.0",
          "state": {
            "_model_module": "@jupyter-widgets/base",
            "_model_module_version": "1.2.0",
            "_model_name": "LayoutModel",
            "_view_count": null,
            "_view_module": "@jupyter-widgets/base",
            "_view_module_version": "1.2.0",
            "_view_name": "LayoutView",
            "align_content": null,
            "align_items": null,
            "align_self": null,
            "border": null,
            "bottom": null,
            "display": null,
            "flex": null,
            "flex_flow": null,
            "grid_area": null,
            "grid_auto_columns": null,
            "grid_auto_flow": null,
            "grid_auto_rows": null,
            "grid_column": null,
            "grid_gap": null,
            "grid_row": null,
            "grid_template_areas": null,
            "grid_template_columns": null,
            "grid_template_rows": null,
            "height": null,
            "justify_content": null,
            "justify_items": null,
            "left": null,
            "margin": null,
            "max_height": null,
            "max_width": null,
            "min_height": null,
            "min_width": null,
            "object_fit": null,
            "object_position": null,
            "order": null,
            "overflow": null,
            "overflow_x": null,
            "overflow_y": null,
            "padding": null,
            "right": null,
            "top": null,
            "visibility": null,
            "width": null
          }
        },
        "0a8977d9d30b429782e6038f2b015561": {
          "model_module": "@jupyter-widgets/controls",
          "model_name": "DescriptionStyleModel",
          "model_module_version": "1.5.0",
          "state": {
            "_model_module": "@jupyter-widgets/controls",
            "_model_module_version": "1.5.0",
            "_model_name": "DescriptionStyleModel",
            "_view_count": null,
            "_view_module": "@jupyter-widgets/base",
            "_view_module_version": "1.2.0",
            "_view_name": "StyleView",
            "description_width": ""
          }
        },
        "f0a35dea9d614c09b47f4386faa1cff1": {
          "model_module": "@jupyter-widgets/base",
          "model_name": "LayoutModel",
          "model_module_version": "1.2.0",
          "state": {
            "_model_module": "@jupyter-widgets/base",
            "_model_module_version": "1.2.0",
            "_model_name": "LayoutModel",
            "_view_count": null,
            "_view_module": "@jupyter-widgets/base",
            "_view_module_version": "1.2.0",
            "_view_name": "LayoutView",
            "align_content": null,
            "align_items": null,
            "align_self": null,
            "border": null,
            "bottom": null,
            "display": null,
            "flex": null,
            "flex_flow": null,
            "grid_area": null,
            "grid_auto_columns": null,
            "grid_auto_flow": null,
            "grid_auto_rows": null,
            "grid_column": null,
            "grid_gap": null,
            "grid_row": null,
            "grid_template_areas": null,
            "grid_template_columns": null,
            "grid_template_rows": null,
            "height": null,
            "justify_content": null,
            "justify_items": null,
            "left": null,
            "margin": null,
            "max_height": null,
            "max_width": null,
            "min_height": null,
            "min_width": null,
            "object_fit": null,
            "object_position": null,
            "order": null,
            "overflow": null,
            "overflow_x": null,
            "overflow_y": null,
            "padding": null,
            "right": null,
            "top": null,
            "visibility": null,
            "width": null
          }
        },
        "2dc60b12c2b444d789ce2a9a4b1588f7": {
          "model_module": "@jupyter-widgets/controls",
          "model_name": "DescriptionStyleModel",
          "model_module_version": "1.5.0",
          "state": {
            "_model_module": "@jupyter-widgets/controls",
            "_model_module_version": "1.5.0",
            "_model_name": "DescriptionStyleModel",
            "_view_count": null,
            "_view_module": "@jupyter-widgets/base",
            "_view_module_version": "1.2.0",
            "_view_name": "StyleView",
            "description_width": ""
          }
        },
        "eb777e0dc5694954afc3312c26f42139": {
          "model_module": "@jupyter-widgets/base",
          "model_name": "LayoutModel",
          "model_module_version": "1.2.0",
          "state": {
            "_model_module": "@jupyter-widgets/base",
            "_model_module_version": "1.2.0",
            "_model_name": "LayoutModel",
            "_view_count": null,
            "_view_module": "@jupyter-widgets/base",
            "_view_module_version": "1.2.0",
            "_view_name": "LayoutView",
            "align_content": null,
            "align_items": null,
            "align_self": null,
            "border": null,
            "bottom": null,
            "display": null,
            "flex": null,
            "flex_flow": null,
            "grid_area": null,
            "grid_auto_columns": null,
            "grid_auto_flow": null,
            "grid_auto_rows": null,
            "grid_column": null,
            "grid_gap": null,
            "grid_row": null,
            "grid_template_areas": null,
            "grid_template_columns": null,
            "grid_template_rows": null,
            "height": null,
            "justify_content": null,
            "justify_items": null,
            "left": null,
            "margin": null,
            "max_height": null,
            "max_width": null,
            "min_height": null,
            "min_width": null,
            "object_fit": null,
            "object_position": null,
            "order": null,
            "overflow": null,
            "overflow_x": null,
            "overflow_y": null,
            "padding": null,
            "right": null,
            "top": null,
            "visibility": null,
            "width": null
          }
        },
        "7ae0065251f34ad09bf67d3ab5923ed2": {
          "model_module": "@jupyter-widgets/controls",
          "model_name": "DescriptionStyleModel",
          "model_module_version": "1.5.0",
          "state": {
            "_model_module": "@jupyter-widgets/controls",
            "_model_module_version": "1.5.0",
            "_model_name": "DescriptionStyleModel",
            "_view_count": null,
            "_view_module": "@jupyter-widgets/base",
            "_view_module_version": "1.2.0",
            "_view_name": "StyleView",
            "description_width": ""
          }
        },
        "7c562d416fff403fad70ef6f622e80ed": {
          "model_module": "@jupyter-widgets/base",
          "model_name": "LayoutModel",
          "model_module_version": "1.2.0",
          "state": {
            "_model_module": "@jupyter-widgets/base",
            "_model_module_version": "1.2.0",
            "_model_name": "LayoutModel",
            "_view_count": null,
            "_view_module": "@jupyter-widgets/base",
            "_view_module_version": "1.2.0",
            "_view_name": "LayoutView",
            "align_content": null,
            "align_items": null,
            "align_self": null,
            "border": null,
            "bottom": null,
            "display": null,
            "flex": null,
            "flex_flow": null,
            "grid_area": null,
            "grid_auto_columns": null,
            "grid_auto_flow": null,
            "grid_auto_rows": null,
            "grid_column": null,
            "grid_gap": null,
            "grid_row": null,
            "grid_template_areas": null,
            "grid_template_columns": null,
            "grid_template_rows": null,
            "height": null,
            "justify_content": null,
            "justify_items": null,
            "left": null,
            "margin": null,
            "max_height": null,
            "max_width": null,
            "min_height": null,
            "min_width": null,
            "object_fit": null,
            "object_position": null,
            "order": null,
            "overflow": null,
            "overflow_x": null,
            "overflow_y": null,
            "padding": null,
            "right": null,
            "top": null,
            "visibility": null,
            "width": null
          }
        },
        "63bae70e3308408bb50b31a8f1d0908f": {
          "model_module": "@jupyter-widgets/controls",
          "model_name": "ButtonStyleModel",
          "model_module_version": "1.5.0",
          "state": {
            "_model_module": "@jupyter-widgets/controls",
            "_model_module_version": "1.5.0",
            "_model_name": "ButtonStyleModel",
            "_view_count": null,
            "_view_module": "@jupyter-widgets/base",
            "_view_module_version": "1.2.0",
            "_view_name": "StyleView",
            "button_color": null,
            "font_weight": ""
          }
        },
        "068fc3ab19b546ef8f9e4dcddf92bb2d": {
          "model_module": "@jupyter-widgets/base",
          "model_name": "LayoutModel",
          "model_module_version": "1.2.0",
          "state": {
            "_model_module": "@jupyter-widgets/base",
            "_model_module_version": "1.2.0",
            "_model_name": "LayoutModel",
            "_view_count": null,
            "_view_module": "@jupyter-widgets/base",
            "_view_module_version": "1.2.0",
            "_view_name": "LayoutView",
            "align_content": null,
            "align_items": null,
            "align_self": null,
            "border": null,
            "bottom": null,
            "display": null,
            "flex": null,
            "flex_flow": null,
            "grid_area": null,
            "grid_auto_columns": null,
            "grid_auto_flow": null,
            "grid_auto_rows": null,
            "grid_column": null,
            "grid_gap": null,
            "grid_row": null,
            "grid_template_areas": null,
            "grid_template_columns": null,
            "grid_template_rows": null,
            "height": null,
            "justify_content": null,
            "justify_items": null,
            "left": null,
            "margin": null,
            "max_height": null,
            "max_width": null,
            "min_height": null,
            "min_width": null,
            "object_fit": null,
            "object_position": null,
            "order": null,
            "overflow": null,
            "overflow_x": null,
            "overflow_y": null,
            "padding": null,
            "right": null,
            "top": null,
            "visibility": null,
            "width": null
          }
        },
        "14c9f026521749f7b42a6597c204072e": {
          "model_module": "@jupyter-widgets/controls",
          "model_name": "DescriptionStyleModel",
          "model_module_version": "1.5.0",
          "state": {
            "_model_module": "@jupyter-widgets/controls",
            "_model_module_version": "1.5.0",
            "_model_name": "DescriptionStyleModel",
            "_view_count": null,
            "_view_module": "@jupyter-widgets/base",
            "_view_module_version": "1.2.0",
            "_view_name": "StyleView",
            "description_width": ""
          }
        },
        "86217cbac68b46ed94ec0341927a04e5": {
          "model_module": "@jupyter-widgets/controls",
          "model_name": "LabelModel",
          "model_module_version": "1.5.0",
          "state": {
            "_dom_classes": [],
            "_model_module": "@jupyter-widgets/controls",
            "_model_module_version": "1.5.0",
            "_model_name": "LabelModel",
            "_view_count": null,
            "_view_module": "@jupyter-widgets/controls",
            "_view_module_version": "1.5.0",
            "_view_name": "LabelView",
            "description": "",
            "description_tooltip": null,
            "layout": "IPY_MODEL_843f06705736403bba4b501e304e6df7",
            "placeholder": "​",
            "style": "IPY_MODEL_4494151b5b254c2a92557a3ec72e2248",
            "value": "Connecting..."
          }
        },
        "843f06705736403bba4b501e304e6df7": {
          "model_module": "@jupyter-widgets/base",
          "model_name": "LayoutModel",
          "model_module_version": "1.2.0",
          "state": {
            "_model_module": "@jupyter-widgets/base",
            "_model_module_version": "1.2.0",
            "_model_name": "LayoutModel",
            "_view_count": null,
            "_view_module": "@jupyter-widgets/base",
            "_view_module_version": "1.2.0",
            "_view_name": "LayoutView",
            "align_content": null,
            "align_items": null,
            "align_self": null,
            "border": null,
            "bottom": null,
            "display": null,
            "flex": null,
            "flex_flow": null,
            "grid_area": null,
            "grid_auto_columns": null,
            "grid_auto_flow": null,
            "grid_auto_rows": null,
            "grid_column": null,
            "grid_gap": null,
            "grid_row": null,
            "grid_template_areas": null,
            "grid_template_columns": null,
            "grid_template_rows": null,
            "height": null,
            "justify_content": null,
            "justify_items": null,
            "left": null,
            "margin": null,
            "max_height": null,
            "max_width": null,
            "min_height": null,
            "min_width": null,
            "object_fit": null,
            "object_position": null,
            "order": null,
            "overflow": null,
            "overflow_x": null,
            "overflow_y": null,
            "padding": null,
            "right": null,
            "top": null,
            "visibility": null,
            "width": null
          }
        },
        "4494151b5b254c2a92557a3ec72e2248": {
          "model_module": "@jupyter-widgets/controls",
          "model_name": "DescriptionStyleModel",
          "model_module_version": "1.5.0",
          "state": {
            "_model_module": "@jupyter-widgets/controls",
            "_model_module_version": "1.5.0",
            "_model_name": "DescriptionStyleModel",
            "_view_count": null,
            "_view_module": "@jupyter-widgets/base",
            "_view_module_version": "1.2.0",
            "_view_name": "StyleView",
            "description_width": ""
          }
        },
        "c6a6ef72a0f049cd9f878a64301759c5": {
          "model_module": "@jupyter-widgets/controls",
          "model_name": "HBoxModel",
          "model_module_version": "1.5.0",
          "state": {
            "_dom_classes": [],
            "_model_module": "@jupyter-widgets/controls",
            "_model_module_version": "1.5.0",
            "_model_name": "HBoxModel",
            "_view_count": null,
            "_view_module": "@jupyter-widgets/controls",
            "_view_module_version": "1.5.0",
            "_view_name": "HBoxView",
            "box_style": "",
            "children": [
              "IPY_MODEL_a5b66bfc46d8436db8a1f36ad0bded5c",
              "IPY_MODEL_b80a56129c094cc7aad92c4018b21b41",
              "IPY_MODEL_f02c3f8f79e4457e81a7f62ed795d873"
            ],
            "layout": "IPY_MODEL_9973b324ee1643dc9f6e9374b525e544"
          }
        },
        "a5b66bfc46d8436db8a1f36ad0bded5c": {
          "model_module": "@jupyter-widgets/controls",
          "model_name": "HTMLModel",
          "model_module_version": "1.5.0",
          "state": {
            "_dom_classes": [],
            "_model_module": "@jupyter-widgets/controls",
            "_model_module_version": "1.5.0",
            "_model_name": "HTMLModel",
            "_view_count": null,
            "_view_module": "@jupyter-widgets/controls",
            "_view_module_version": "1.5.0",
            "_view_name": "HTMLView",
            "description": "",
            "description_tooltip": null,
            "layout": "IPY_MODEL_46ad714f13d34374acdfbe278a1a45f0",
            "placeholder": "​",
            "style": "IPY_MODEL_09e79f6b6bc347aa9d7dd92daa96e19c",
            "value": "Fetching 1 files: 100%"
          }
        },
        "b80a56129c094cc7aad92c4018b21b41": {
          "model_module": "@jupyter-widgets/controls",
          "model_name": "FloatProgressModel",
          "model_module_version": "1.5.0",
          "state": {
            "_dom_classes": [],
            "_model_module": "@jupyter-widgets/controls",
            "_model_module_version": "1.5.0",
            "_model_name": "FloatProgressModel",
            "_view_count": null,
            "_view_module": "@jupyter-widgets/controls",
            "_view_module_version": "1.5.0",
            "_view_name": "ProgressView",
            "bar_style": "success",
            "description": "",
            "description_tooltip": null,
            "layout": "IPY_MODEL_8651b79035a74df79cbdaa7d7fe7dda0",
            "max": 1,
            "min": 0,
            "orientation": "horizontal",
            "style": "IPY_MODEL_4741d2753cc746698fec0102442b2a9f",
            "value": 1
          }
        },
        "f02c3f8f79e4457e81a7f62ed795d873": {
          "model_module": "@jupyter-widgets/controls",
          "model_name": "HTMLModel",
          "model_module_version": "1.5.0",
          "state": {
            "_dom_classes": [],
            "_model_module": "@jupyter-widgets/controls",
            "_model_module_version": "1.5.0",
            "_model_name": "HTMLModel",
            "_view_count": null,
            "_view_module": "@jupyter-widgets/controls",
            "_view_module_version": "1.5.0",
            "_view_name": "HTMLView",
            "description": "",
            "description_tooltip": null,
            "layout": "IPY_MODEL_dbfac9984cdd48c2b439fdef029e3cb9",
            "placeholder": "​",
            "style": "IPY_MODEL_698db852ec9d4859b026fd78e029fd3d",
            "value": " 1/1 [00:00&lt;00:00, 90.51it/s]"
          }
        },
        "9973b324ee1643dc9f6e9374b525e544": {
          "model_module": "@jupyter-widgets/base",
          "model_name": "LayoutModel",
          "model_module_version": "1.2.0",
          "state": {
            "_model_module": "@jupyter-widgets/base",
            "_model_module_version": "1.2.0",
            "_model_name": "LayoutModel",
            "_view_count": null,
            "_view_module": "@jupyter-widgets/base",
            "_view_module_version": "1.2.0",
            "_view_name": "LayoutView",
            "align_content": null,
            "align_items": null,
            "align_self": null,
            "border": null,
            "bottom": null,
            "display": null,
            "flex": null,
            "flex_flow": null,
            "grid_area": null,
            "grid_auto_columns": null,
            "grid_auto_flow": null,
            "grid_auto_rows": null,
            "grid_column": null,
            "grid_gap": null,
            "grid_row": null,
            "grid_template_areas": null,
            "grid_template_columns": null,
            "grid_template_rows": null,
            "height": null,
            "justify_content": null,
            "justify_items": null,
            "left": null,
            "margin": null,
            "max_height": null,
            "max_width": null,
            "min_height": null,
            "min_width": null,
            "object_fit": null,
            "object_position": null,
            "order": null,
            "overflow": null,
            "overflow_x": null,
            "overflow_y": null,
            "padding": null,
            "right": null,
            "top": null,
            "visibility": null,
            "width": null
          }
        },
        "46ad714f13d34374acdfbe278a1a45f0": {
          "model_module": "@jupyter-widgets/base",
          "model_name": "LayoutModel",
          "model_module_version": "1.2.0",
          "state": {
            "_model_module": "@jupyter-widgets/base",
            "_model_module_version": "1.2.0",
            "_model_name": "LayoutModel",
            "_view_count": null,
            "_view_module": "@jupyter-widgets/base",
            "_view_module_version": "1.2.0",
            "_view_name": "LayoutView",
            "align_content": null,
            "align_items": null,
            "align_self": null,
            "border": null,
            "bottom": null,
            "display": null,
            "flex": null,
            "flex_flow": null,
            "grid_area": null,
            "grid_auto_columns": null,
            "grid_auto_flow": null,
            "grid_auto_rows": null,
            "grid_column": null,
            "grid_gap": null,
            "grid_row": null,
            "grid_template_areas": null,
            "grid_template_columns": null,
            "grid_template_rows": null,
            "height": null,
            "justify_content": null,
            "justify_items": null,
            "left": null,
            "margin": null,
            "max_height": null,
            "max_width": null,
            "min_height": null,
            "min_width": null,
            "object_fit": null,
            "object_position": null,
            "order": null,
            "overflow": null,
            "overflow_x": null,
            "overflow_y": null,
            "padding": null,
            "right": null,
            "top": null,
            "visibility": null,
            "width": null
          }
        },
        "09e79f6b6bc347aa9d7dd92daa96e19c": {
          "model_module": "@jupyter-widgets/controls",
          "model_name": "DescriptionStyleModel",
          "model_module_version": "1.5.0",
          "state": {
            "_model_module": "@jupyter-widgets/controls",
            "_model_module_version": "1.5.0",
            "_model_name": "DescriptionStyleModel",
            "_view_count": null,
            "_view_module": "@jupyter-widgets/base",
            "_view_module_version": "1.2.0",
            "_view_name": "StyleView",
            "description_width": ""
          }
        },
        "8651b79035a74df79cbdaa7d7fe7dda0": {
          "model_module": "@jupyter-widgets/base",
          "model_name": "LayoutModel",
          "model_module_version": "1.2.0",
          "state": {
            "_model_module": "@jupyter-widgets/base",
            "_model_module_version": "1.2.0",
            "_model_name": "LayoutModel",
            "_view_count": null,
            "_view_module": "@jupyter-widgets/base",
            "_view_module_version": "1.2.0",
            "_view_name": "LayoutView",
            "align_content": null,
            "align_items": null,
            "align_self": null,
            "border": null,
            "bottom": null,
            "display": null,
            "flex": null,
            "flex_flow": null,
            "grid_area": null,
            "grid_auto_columns": null,
            "grid_auto_flow": null,
            "grid_auto_rows": null,
            "grid_column": null,
            "grid_gap": null,
            "grid_row": null,
            "grid_template_areas": null,
            "grid_template_columns": null,
            "grid_template_rows": null,
            "height": null,
            "justify_content": null,
            "justify_items": null,
            "left": null,
            "margin": null,
            "max_height": null,
            "max_width": null,
            "min_height": null,
            "min_width": null,
            "object_fit": null,
            "object_position": null,
            "order": null,
            "overflow": null,
            "overflow_x": null,
            "overflow_y": null,
            "padding": null,
            "right": null,
            "top": null,
            "visibility": null,
            "width": null
          }
        },
        "4741d2753cc746698fec0102442b2a9f": {
          "model_module": "@jupyter-widgets/controls",
          "model_name": "ProgressStyleModel",
          "model_module_version": "1.5.0",
          "state": {
            "_model_module": "@jupyter-widgets/controls",
            "_model_module_version": "1.5.0",
            "_model_name": "ProgressStyleModel",
            "_view_count": null,
            "_view_module": "@jupyter-widgets/base",
            "_view_module_version": "1.2.0",
            "_view_name": "StyleView",
            "bar_color": null,
            "description_width": ""
          }
        },
        "dbfac9984cdd48c2b439fdef029e3cb9": {
          "model_module": "@jupyter-widgets/base",
          "model_name": "LayoutModel",
          "model_module_version": "1.2.0",
          "state": {
            "_model_module": "@jupyter-widgets/base",
            "_model_module_version": "1.2.0",
            "_model_name": "LayoutModel",
            "_view_count": null,
            "_view_module": "@jupyter-widgets/base",
            "_view_module_version": "1.2.0",
            "_view_name": "LayoutView",
            "align_content": null,
            "align_items": null,
            "align_self": null,
            "border": null,
            "bottom": null,
            "display": null,
            "flex": null,
            "flex_flow": null,
            "grid_area": null,
            "grid_auto_columns": null,
            "grid_auto_flow": null,
            "grid_auto_rows": null,
            "grid_column": null,
            "grid_gap": null,
            "grid_row": null,
            "grid_template_areas": null,
            "grid_template_columns": null,
            "grid_template_rows": null,
            "height": null,
            "justify_content": null,
            "justify_items": null,
            "left": null,
            "margin": null,
            "max_height": null,
            "max_width": null,
            "min_height": null,
            "min_width": null,
            "object_fit": null,
            "object_position": null,
            "order": null,
            "overflow": null,
            "overflow_x": null,
            "overflow_y": null,
            "padding": null,
            "right": null,
            "top": null,
            "visibility": null,
            "width": null
          }
        },
        "698db852ec9d4859b026fd78e029fd3d": {
          "model_module": "@jupyter-widgets/controls",
          "model_name": "DescriptionStyleModel",
          "model_module_version": "1.5.0",
          "state": {
            "_model_module": "@jupyter-widgets/controls",
            "_model_module_version": "1.5.0",
            "_model_name": "DescriptionStyleModel",
            "_view_count": null,
            "_view_module": "@jupyter-widgets/base",
            "_view_module_version": "1.2.0",
            "_view_name": "StyleView",
            "description_width": ""
          }
        }
      }
    }
  },
  "nbformat": 4,
  "nbformat_minor": 0
}